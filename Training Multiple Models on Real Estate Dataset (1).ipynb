{
 "cells": [
  {
   "cell_type": "markdown",
   "id": "3720ba07",
   "metadata": {},
   "source": [
    "# Training Multiple Models"
   ]
  },
  {
   "cell_type": "markdown",
   "id": "07128b4e",
   "metadata": {},
   "source": [
    "# Import the Libraries"
   ]
  },
  {
   "cell_type": "code",
   "execution_count": 202,
   "id": "d23b45fb",
   "metadata": {},
   "outputs": [],
   "source": [
    "import pandas as pd\n",
    "import numpy as np\n",
    "import seaborn as sns\n",
    "import matplotlib.pyplot as plt\n",
    "import warnings\n",
    "warnings.filterwarnings('ignore')\n",
    "import plotly.express as px"
   ]
  },
  {
   "cell_type": "markdown",
   "id": "f595f3a2",
   "metadata": {},
   "source": [
    "# Load Dataset"
   ]
  },
  {
   "cell_type": "code",
   "execution_count": 203,
   "id": "da96f056",
   "metadata": {},
   "outputs": [],
   "source": [
    "df = pd.read_csv('Real_Estate.csv')"
   ]
  },
  {
   "cell_type": "code",
   "execution_count": 204,
   "id": "e1719d0f",
   "metadata": {},
   "outputs": [
    {
     "data": {
      "text/html": [
       "<div>\n",
       "<style scoped>\n",
       "    .dataframe tbody tr th:only-of-type {\n",
       "        vertical-align: middle;\n",
       "    }\n",
       "\n",
       "    .dataframe tbody tr th {\n",
       "        vertical-align: top;\n",
       "    }\n",
       "\n",
       "    .dataframe thead th {\n",
       "        text-align: right;\n",
       "    }\n",
       "</style>\n",
       "<table border=\"1\" class=\"dataframe\">\n",
       "  <thead>\n",
       "    <tr style=\"text-align: right;\">\n",
       "      <th></th>\n",
       "      <th>Transaction date</th>\n",
       "      <th>House age</th>\n",
       "      <th>Distance to the nearest MRT station</th>\n",
       "      <th>Number of convenience stores</th>\n",
       "      <th>Latitude</th>\n",
       "      <th>Longitude</th>\n",
       "      <th>House price of unit area</th>\n",
       "    </tr>\n",
       "  </thead>\n",
       "  <tbody>\n",
       "    <tr>\n",
       "      <th>0</th>\n",
       "      <td>2012-09-02 16:42:30.519336</td>\n",
       "      <td>13.3</td>\n",
       "      <td>4082.01500</td>\n",
       "      <td>8</td>\n",
       "      <td>25.007059</td>\n",
       "      <td>121.561694</td>\n",
       "      <td>6.488673</td>\n",
       "    </tr>\n",
       "    <tr>\n",
       "      <th>1</th>\n",
       "      <td>2012-09-04 22:52:29.919544</td>\n",
       "      <td>35.5</td>\n",
       "      <td>274.01440</td>\n",
       "      <td>2</td>\n",
       "      <td>25.012148</td>\n",
       "      <td>121.546990</td>\n",
       "      <td>24.970725</td>\n",
       "    </tr>\n",
       "    <tr>\n",
       "      <th>2</th>\n",
       "      <td>2012-09-05 01:10:52.349449</td>\n",
       "      <td>1.1</td>\n",
       "      <td>1978.67100</td>\n",
       "      <td>10</td>\n",
       "      <td>25.003850</td>\n",
       "      <td>121.528336</td>\n",
       "      <td>26.694267</td>\n",
       "    </tr>\n",
       "    <tr>\n",
       "      <th>3</th>\n",
       "      <td>2012-09-05 13:26:01.189083</td>\n",
       "      <td>22.2</td>\n",
       "      <td>1055.06700</td>\n",
       "      <td>5</td>\n",
       "      <td>24.962887</td>\n",
       "      <td>121.482178</td>\n",
       "      <td>38.091638</td>\n",
       "    </tr>\n",
       "    <tr>\n",
       "      <th>4</th>\n",
       "      <td>2012-09-06 08:29:47.910523</td>\n",
       "      <td>8.5</td>\n",
       "      <td>967.40000</td>\n",
       "      <td>6</td>\n",
       "      <td>25.011037</td>\n",
       "      <td>121.479946</td>\n",
       "      <td>21.654710</td>\n",
       "    </tr>\n",
       "    <tr>\n",
       "      <th>...</th>\n",
       "      <td>...</td>\n",
       "      <td>...</td>\n",
       "      <td>...</td>\n",
       "      <td>...</td>\n",
       "      <td>...</td>\n",
       "      <td>...</td>\n",
       "      <td>...</td>\n",
       "    </tr>\n",
       "    <tr>\n",
       "      <th>409</th>\n",
       "      <td>2013-07-25 15:30:36.565239</td>\n",
       "      <td>18.3</td>\n",
       "      <td>170.12890</td>\n",
       "      <td>6</td>\n",
       "      <td>24.981186</td>\n",
       "      <td>121.486798</td>\n",
       "      <td>29.096310</td>\n",
       "    </tr>\n",
       "    <tr>\n",
       "      <th>410</th>\n",
       "      <td>2013-07-26 17:16:34.019780</td>\n",
       "      <td>11.9</td>\n",
       "      <td>323.69120</td>\n",
       "      <td>2</td>\n",
       "      <td>24.950070</td>\n",
       "      <td>121.483918</td>\n",
       "      <td>33.871347</td>\n",
       "    </tr>\n",
       "    <tr>\n",
       "      <th>411</th>\n",
       "      <td>2013-07-28 21:47:23.339050</td>\n",
       "      <td>0.0</td>\n",
       "      <td>451.64190</td>\n",
       "      <td>8</td>\n",
       "      <td>24.963901</td>\n",
       "      <td>121.543387</td>\n",
       "      <td>25.255105</td>\n",
       "    </tr>\n",
       "    <tr>\n",
       "      <th>412</th>\n",
       "      <td>2013-07-29 13:33:29.405317</td>\n",
       "      <td>35.9</td>\n",
       "      <td>292.99780</td>\n",
       "      <td>5</td>\n",
       "      <td>24.997863</td>\n",
       "      <td>121.558286</td>\n",
       "      <td>25.285620</td>\n",
       "    </tr>\n",
       "    <tr>\n",
       "      <th>413</th>\n",
       "      <td>2013-08-01 09:49:41.506402</td>\n",
       "      <td>12.0</td>\n",
       "      <td>90.45606</td>\n",
       "      <td>6</td>\n",
       "      <td>24.952904</td>\n",
       "      <td>121.526395</td>\n",
       "      <td>37.580554</td>\n",
       "    </tr>\n",
       "  </tbody>\n",
       "</table>\n",
       "<p>414 rows × 7 columns</p>\n",
       "</div>"
      ],
      "text/plain": [
       "               Transaction date  House age  \\\n",
       "0    2012-09-02 16:42:30.519336       13.3   \n",
       "1    2012-09-04 22:52:29.919544       35.5   \n",
       "2    2012-09-05 01:10:52.349449        1.1   \n",
       "3    2012-09-05 13:26:01.189083       22.2   \n",
       "4    2012-09-06 08:29:47.910523        8.5   \n",
       "..                          ...        ...   \n",
       "409  2013-07-25 15:30:36.565239       18.3   \n",
       "410  2013-07-26 17:16:34.019780       11.9   \n",
       "411  2013-07-28 21:47:23.339050        0.0   \n",
       "412  2013-07-29 13:33:29.405317       35.9   \n",
       "413  2013-08-01 09:49:41.506402       12.0   \n",
       "\n",
       "     Distance to the nearest MRT station  Number of convenience stores  \\\n",
       "0                             4082.01500                             8   \n",
       "1                              274.01440                             2   \n",
       "2                             1978.67100                            10   \n",
       "3                             1055.06700                             5   \n",
       "4                              967.40000                             6   \n",
       "..                                   ...                           ...   \n",
       "409                            170.12890                             6   \n",
       "410                            323.69120                             2   \n",
       "411                            451.64190                             8   \n",
       "412                            292.99780                             5   \n",
       "413                             90.45606                             6   \n",
       "\n",
       "      Latitude   Longitude  House price of unit area  \n",
       "0    25.007059  121.561694                  6.488673  \n",
       "1    25.012148  121.546990                 24.970725  \n",
       "2    25.003850  121.528336                 26.694267  \n",
       "3    24.962887  121.482178                 38.091638  \n",
       "4    25.011037  121.479946                 21.654710  \n",
       "..         ...         ...                       ...  \n",
       "409  24.981186  121.486798                 29.096310  \n",
       "410  24.950070  121.483918                 33.871347  \n",
       "411  24.963901  121.543387                 25.255105  \n",
       "412  24.997863  121.558286                 25.285620  \n",
       "413  24.952904  121.526395                 37.580554  \n",
       "\n",
       "[414 rows x 7 columns]"
      ]
     },
     "execution_count": 204,
     "metadata": {},
     "output_type": "execute_result"
    }
   ],
   "source": [
    "df"
   ]
  },
  {
   "cell_type": "code",
   "execution_count": 205,
   "id": "8a38e350",
   "metadata": {},
   "outputs": [
    {
     "data": {
      "text/plain": [
       "(414, 7)"
      ]
     },
     "execution_count": 205,
     "metadata": {},
     "output_type": "execute_result"
    }
   ],
   "source": [
    "df.shape"
   ]
  },
  {
   "cell_type": "markdown",
   "id": "24f45603",
   "metadata": {},
   "source": [
    "# -Displaying first few records"
   ]
  },
  {
   "cell_type": "code",
   "execution_count": 206,
   "id": "5aa80ced",
   "metadata": {},
   "outputs": [
    {
     "data": {
      "text/html": [
       "<div>\n",
       "<style scoped>\n",
       "    .dataframe tbody tr th:only-of-type {\n",
       "        vertical-align: middle;\n",
       "    }\n",
       "\n",
       "    .dataframe tbody tr th {\n",
       "        vertical-align: top;\n",
       "    }\n",
       "\n",
       "    .dataframe thead th {\n",
       "        text-align: right;\n",
       "    }\n",
       "</style>\n",
       "<table border=\"1\" class=\"dataframe\">\n",
       "  <thead>\n",
       "    <tr style=\"text-align: right;\">\n",
       "      <th></th>\n",
       "      <th>Transaction date</th>\n",
       "      <th>House age</th>\n",
       "      <th>Distance to the nearest MRT station</th>\n",
       "      <th>Number of convenience stores</th>\n",
       "      <th>Latitude</th>\n",
       "      <th>Longitude</th>\n",
       "      <th>House price of unit area</th>\n",
       "    </tr>\n",
       "  </thead>\n",
       "  <tbody>\n",
       "    <tr>\n",
       "      <th>0</th>\n",
       "      <td>2012-09-02 16:42:30.519336</td>\n",
       "      <td>13.3</td>\n",
       "      <td>4082.0150</td>\n",
       "      <td>8</td>\n",
       "      <td>25.007059</td>\n",
       "      <td>121.561694</td>\n",
       "      <td>6.488673</td>\n",
       "    </tr>\n",
       "    <tr>\n",
       "      <th>1</th>\n",
       "      <td>2012-09-04 22:52:29.919544</td>\n",
       "      <td>35.5</td>\n",
       "      <td>274.0144</td>\n",
       "      <td>2</td>\n",
       "      <td>25.012148</td>\n",
       "      <td>121.546990</td>\n",
       "      <td>24.970725</td>\n",
       "    </tr>\n",
       "    <tr>\n",
       "      <th>2</th>\n",
       "      <td>2012-09-05 01:10:52.349449</td>\n",
       "      <td>1.1</td>\n",
       "      <td>1978.6710</td>\n",
       "      <td>10</td>\n",
       "      <td>25.003850</td>\n",
       "      <td>121.528336</td>\n",
       "      <td>26.694267</td>\n",
       "    </tr>\n",
       "    <tr>\n",
       "      <th>3</th>\n",
       "      <td>2012-09-05 13:26:01.189083</td>\n",
       "      <td>22.2</td>\n",
       "      <td>1055.0670</td>\n",
       "      <td>5</td>\n",
       "      <td>24.962887</td>\n",
       "      <td>121.482178</td>\n",
       "      <td>38.091638</td>\n",
       "    </tr>\n",
       "    <tr>\n",
       "      <th>4</th>\n",
       "      <td>2012-09-06 08:29:47.910523</td>\n",
       "      <td>8.5</td>\n",
       "      <td>967.4000</td>\n",
       "      <td>6</td>\n",
       "      <td>25.011037</td>\n",
       "      <td>121.479946</td>\n",
       "      <td>21.654710</td>\n",
       "    </tr>\n",
       "  </tbody>\n",
       "</table>\n",
       "</div>"
      ],
      "text/plain": [
       "             Transaction date  House age  Distance to the nearest MRT station  \\\n",
       "0  2012-09-02 16:42:30.519336       13.3                            4082.0150   \n",
       "1  2012-09-04 22:52:29.919544       35.5                             274.0144   \n",
       "2  2012-09-05 01:10:52.349449        1.1                            1978.6710   \n",
       "3  2012-09-05 13:26:01.189083       22.2                            1055.0670   \n",
       "4  2012-09-06 08:29:47.910523        8.5                             967.4000   \n",
       "\n",
       "   Number of convenience stores   Latitude   Longitude  \\\n",
       "0                             8  25.007059  121.561694   \n",
       "1                             2  25.012148  121.546990   \n",
       "2                            10  25.003850  121.528336   \n",
       "3                             5  24.962887  121.482178   \n",
       "4                             6  25.011037  121.479946   \n",
       "\n",
       "   House price of unit area  \n",
       "0                  6.488673  \n",
       "1                 24.970725  \n",
       "2                 26.694267  \n",
       "3                 38.091638  \n",
       "4                 21.654710  "
      ]
     },
     "execution_count": 206,
     "metadata": {},
     "output_type": "execute_result"
    }
   ],
   "source": [
    "df.head()"
   ]
  },
  {
   "cell_type": "markdown",
   "id": "70b4c38a",
   "metadata": {},
   "source": [
    "# Detailed summary about the Dataset"
   ]
  },
  {
   "cell_type": "code",
   "execution_count": 207,
   "id": "0aafc1ef",
   "metadata": {},
   "outputs": [
    {
     "name": "stdout",
     "output_type": "stream",
     "text": [
      "<class 'pandas.core.frame.DataFrame'>\n",
      "RangeIndex: 414 entries, 0 to 413\n",
      "Data columns (total 7 columns):\n",
      " #   Column                               Non-Null Count  Dtype  \n",
      "---  ------                               --------------  -----  \n",
      " 0   Transaction date                     414 non-null    object \n",
      " 1   House age                            414 non-null    float64\n",
      " 2   Distance to the nearest MRT station  414 non-null    float64\n",
      " 3   Number of convenience stores         414 non-null    int64  \n",
      " 4   Latitude                             414 non-null    float64\n",
      " 5   Longitude                            414 non-null    float64\n",
      " 6   House price of unit area             414 non-null    float64\n",
      "dtypes: float64(5), int64(1), object(1)\n",
      "memory usage: 22.8+ KB\n"
     ]
    }
   ],
   "source": [
    "df.info()"
   ]
  },
  {
   "cell_type": "markdown",
   "id": "7e325f75",
   "metadata": {},
   "source": [
    "# Checking for unique values"
   ]
  },
  {
   "cell_type": "code",
   "execution_count": 208,
   "id": "b224fd81",
   "metadata": {},
   "outputs": [
    {
     "data": {
      "text/plain": [
       "Transaction date                       414\n",
       "House age                              178\n",
       "Distance to the nearest MRT station    183\n",
       "Number of convenience stores            11\n",
       "Latitude                               414\n",
       "Longitude                              414\n",
       "House price of unit area               384\n",
       "dtype: int64"
      ]
     },
     "execution_count": 208,
     "metadata": {},
     "output_type": "execute_result"
    }
   ],
   "source": [
    "df.nunique()"
   ]
  },
  {
   "cell_type": "markdown",
   "id": "95fda702",
   "metadata": {},
   "source": [
    "# Checking for duplicates if any"
   ]
  },
  {
   "cell_type": "code",
   "execution_count": 209,
   "id": "bd05f5c3",
   "metadata": {},
   "outputs": [
    {
     "data": {
      "text/html": [
       "<div>\n",
       "<style scoped>\n",
       "    .dataframe tbody tr th:only-of-type {\n",
       "        vertical-align: middle;\n",
       "    }\n",
       "\n",
       "    .dataframe tbody tr th {\n",
       "        vertical-align: top;\n",
       "    }\n",
       "\n",
       "    .dataframe thead th {\n",
       "        text-align: right;\n",
       "    }\n",
       "</style>\n",
       "<table border=\"1\" class=\"dataframe\">\n",
       "  <thead>\n",
       "    <tr style=\"text-align: right;\">\n",
       "      <th></th>\n",
       "      <th>Transaction date</th>\n",
       "      <th>House age</th>\n",
       "      <th>Distance to the nearest MRT station</th>\n",
       "      <th>Number of convenience stores</th>\n",
       "      <th>Latitude</th>\n",
       "      <th>Longitude</th>\n",
       "      <th>House price of unit area</th>\n",
       "    </tr>\n",
       "  </thead>\n",
       "  <tbody>\n",
       "  </tbody>\n",
       "</table>\n",
       "</div>"
      ],
      "text/plain": [
       "Empty DataFrame\n",
       "Columns: [Transaction date, House age, Distance to the nearest MRT station, Number of convenience stores, Latitude, Longitude, House price of unit area]\n",
       "Index: []"
      ]
     },
     "execution_count": 209,
     "metadata": {},
     "output_type": "execute_result"
    }
   ],
   "source": [
    "df[df. duplicated( )]"
   ]
  },
  {
   "cell_type": "markdown",
   "id": "ad01ae28",
   "metadata": {},
   "source": [
    "# Checking and Handling Missing Values"
   ]
  },
  {
   "cell_type": "code",
   "execution_count": 210,
   "id": "6c806ad5",
   "metadata": {},
   "outputs": [
    {
     "data": {
      "text/plain": [
       "Transaction date                       0\n",
       "House age                              0\n",
       "Distance to the nearest MRT station    0\n",
       "Number of convenience stores           0\n",
       "Latitude                               0\n",
       "Longitude                              0\n",
       "House price of unit area               0\n",
       "dtype: int64"
      ]
     },
     "execution_count": 210,
     "metadata": {},
     "output_type": "execute_result"
    }
   ],
   "source": [
    "df.isnull().sum()"
   ]
  },
  {
   "cell_type": "markdown",
   "id": "597bae4b",
   "metadata": {},
   "source": [
    "# Calculate correlations"
   ]
  },
  {
   "cell_type": "code",
   "execution_count": 211,
   "id": "a37f3118-7ca8-4b60-b5eb-2f18d984ddf2",
   "metadata": {},
   "outputs": [
    {
     "name": "stdout",
     "output_type": "stream",
     "text": [
      "                                     House age  \\\n",
      "House age                             1.000000   \n",
      "Distance to the nearest MRT station   0.021596   \n",
      "Number of convenience stores          0.021973   \n",
      "Latitude                              0.114345   \n",
      "Longitude                             0.036449   \n",
      "House price of unit area             -0.012284   \n",
      "\n",
      "                                     Distance to the nearest MRT station  \\\n",
      "House age                                                       0.021596   \n",
      "Distance to the nearest MRT station                             1.000000   \n",
      "Number of convenience stores                                    0.069015   \n",
      "Latitude                                                        0.038954   \n",
      "Longitude                                                       0.064229   \n",
      "House price of unit area                                       -0.636579   \n",
      "\n",
      "                                     Number of convenience stores  Latitude  \\\n",
      "House age                                                0.021973  0.114345   \n",
      "Distance to the nearest MRT station                      0.069015  0.038954   \n",
      "Number of convenience stores                             1.000000  0.082725   \n",
      "Latitude                                                 0.082725  1.000000   \n",
      "Longitude                                                0.013156  0.007754   \n",
      "House price of unit area                                 0.280763  0.081008   \n",
      "\n",
      "                                     Longitude  House price of unit area  \n",
      "House age                             0.036449                 -0.012284  \n",
      "Distance to the nearest MRT station   0.064229                 -0.636579  \n",
      "Number of convenience stores          0.013156                  0.280763  \n",
      "Latitude                              0.007754                  0.081008  \n",
      "Longitude                             1.000000                 -0.098626  \n",
      "House price of unit area             -0.098626                  1.000000  \n"
     ]
    }
   ],
   "source": [
    "correlations = df.corr(numeric_only=True)\n",
    "print(correlations)"
   ]
  },
  {
   "cell_type": "code",
   "execution_count": 212,
   "id": "5f930f17-8448-4497-b288-25a6dc322309",
   "metadata": {},
   "outputs": [
    {
     "data": {
      "text/plain": [
       "<Axes: >"
      ]
     },
     "execution_count": 212,
     "metadata": {},
     "output_type": "execute_result"
    },
    {
     "data": {
      "image/png": "[encoded data removed]",
      "text/plain": [
       "<Figure size 640x480 with 2 Axes>"
      ]
     },
     "metadata": {},
     "output_type": "display_data"
    }
   ],
   "source": [
    "sns.heatmap(df.corr(numeric_only=True),annot=True,cmap='Purples')"
   ]
  },
  {
   "cell_type": "markdown",
   "id": "8f8f8334",
   "metadata": {},
   "source": [
    "# Find the most expensive property"
   ]
  },
  {
   "cell_type": "code",
   "execution_count": 213,
   "id": "b9ba5d90-c6bb-493f-ac59-8ebca65ccef8",
   "metadata": {},
   "outputs": [
    {
     "name": "stdout",
     "output_type": "stream",
     "text": [
      "               Transaction date  House age  \\\n",
      "172  2013-01-15 14:41:17.944841        0.0   \n",
      "\n",
      "     Distance to the nearest MRT station  Number of convenience stores  \\\n",
      "172                             292.9978                            10   \n",
      "\n",
      "      Latitude   Longitude  House price of unit area  \n",
      "172  24.932805  121.510373                 65.571716  \n"
     ]
    }
   ],
   "source": [
    "max_price = df['House price of unit area'].max()\n",
    "expensive_property = df[df['House price of unit area'] == max_price]\n",
    "print(expensive_property)"
   ]
  },
  {
   "cell_type": "code",
   "execution_count": 214,
   "id": "11ffa44a-0474-4bfc-a935-ab4baae1655b",
   "metadata": {},
   "outputs": [
    {
     "data": {
      "image/png": "[encoded data removed]",
      "text/plain": [
       "<Figure size 640x480 with 1 Axes>"
      ]
     },
     "metadata": {},
     "output_type": "display_data"
    }
   ],
   "source": [
    "plt.hist(df['House price of unit area'], bins=10, color='lavender', edgecolor='black')\n",
    "plt.xlabel('House Price')\n",
    "plt.ylabel('Frequency')\n",
    "plt.title('Distribution of House Prices')\n",
    "plt.show()"
   ]
  },
  {
   "cell_type": "markdown",
   "id": "f96ad6ab",
   "metadata": {},
   "source": [
    "# Visualize the distribution of property prices, Visualize the distribution of distances to MRT stations, Visualize the distribution of house ages"
   ]
  },
  {
   "cell_type": "code",
   "execution_count": 215,
   "id": "0921ec67",
   "metadata": {},
   "outputs": [
    {
     "data": {
      "image/png": "[encoded data removed]",
      "text/plain": [
       "<Figure size 1000x600 with 1 Axes>"
      ]
     },
     "metadata": {},
     "output_type": "display_data"
    },
    {
     "data": {
      "image/png": "[encoded data removed]",
      "text/plain": [
       "<Figure size 1000x600 with 1 Axes>"
      ]
     },
     "metadata": {},
     "output_type": "display_data"
    },
    {
     "data": {
      "image/png": "[encoded data removed]",
      "text/plain": [
       "<Figure size 1000x600 with 1 Axes>"
      ]
     },
     "metadata": {},
     "output_type": "display_data"
    }
   ],
   "source": [
    "# Visualize the distribution of property prices\n",
    "plt.figure(figsize=(10, 6))\n",
    "df['House price of unit area'].hist(bins=20, color='lavender', edgecolor='black')\n",
    "plt.xlabel('Property Price')\n",
    "plt.ylabel('Frequency')\n",
    "plt.title('Distribution of Property Prices')\n",
    "plt.show()\n",
    "\n",
    "# Visualize the distribution of distances to MRT stations\n",
    "plt.figure(figsize=(10, 6))\n",
    "df['Distance to the nearest MRT station'].hist(bins=20, color='lavender', edgecolor='black')\n",
    "plt.xlabel('Distance to MRT Station')\n",
    "plt.ylabel('Frequency')\n",
    "plt.title('Distribution of Distances to MRT Stations')\n",
    "plt.show()\n",
    "\n",
    "# Visualize the distribution of house ages\n",
    "plt.figure(figsize=(10, 6))\n",
    "df['House age'].hist(bins=20, color='lavender', edgecolor='black')\n",
    "plt.xlabel('House Age')\n",
    "plt.ylabel('Frequency')\n",
    "plt.title('Distribution of House Ages')\n",
    "plt.show()"
   ]
  },
  {
   "cell_type": "code",
   "execution_count": 216,
   "id": "7a047c1c",
   "metadata": {},
   "outputs": [
    {
     "data": {
      "text/html": [
       "<div>\n",
       "<style scoped>\n",
       "    .dataframe tbody tr th:only-of-type {\n",
       "        vertical-align: middle;\n",
       "    }\n",
       "\n",
       "    .dataframe tbody tr th {\n",
       "        vertical-align: top;\n",
       "    }\n",
       "\n",
       "    .dataframe thead th {\n",
       "        text-align: right;\n",
       "    }\n",
       "</style>\n",
       "<table border=\"1\" class=\"dataframe\">\n",
       "  <thead>\n",
       "    <tr style=\"text-align: right;\">\n",
       "      <th></th>\n",
       "      <th>Transaction date</th>\n",
       "      <th>House age</th>\n",
       "      <th>Distance to the nearest MRT station</th>\n",
       "      <th>Number of convenience stores</th>\n",
       "      <th>Latitude</th>\n",
       "      <th>Longitude</th>\n",
       "      <th>House price of unit area</th>\n",
       "    </tr>\n",
       "  </thead>\n",
       "  <tbody>\n",
       "    <tr>\n",
       "      <th>0</th>\n",
       "      <td>2012-09-02 16:42:30.519336</td>\n",
       "      <td>13.3</td>\n",
       "      <td>4082.01500</td>\n",
       "      <td>8</td>\n",
       "      <td>25.007059</td>\n",
       "      <td>121.561694</td>\n",
       "      <td>6.488673</td>\n",
       "    </tr>\n",
       "    <tr>\n",
       "      <th>1</th>\n",
       "      <td>2012-09-04 22:52:29.919544</td>\n",
       "      <td>35.5</td>\n",
       "      <td>274.01440</td>\n",
       "      <td>2</td>\n",
       "      <td>25.012148</td>\n",
       "      <td>121.546990</td>\n",
       "      <td>24.970725</td>\n",
       "    </tr>\n",
       "    <tr>\n",
       "      <th>2</th>\n",
       "      <td>2012-09-05 01:10:52.349449</td>\n",
       "      <td>1.1</td>\n",
       "      <td>1978.67100</td>\n",
       "      <td>10</td>\n",
       "      <td>25.003850</td>\n",
       "      <td>121.528336</td>\n",
       "      <td>26.694267</td>\n",
       "    </tr>\n",
       "    <tr>\n",
       "      <th>3</th>\n",
       "      <td>2012-09-05 13:26:01.189083</td>\n",
       "      <td>22.2</td>\n",
       "      <td>1055.06700</td>\n",
       "      <td>5</td>\n",
       "      <td>24.962887</td>\n",
       "      <td>121.482178</td>\n",
       "      <td>38.091638</td>\n",
       "    </tr>\n",
       "    <tr>\n",
       "      <th>4</th>\n",
       "      <td>2012-09-06 08:29:47.910523</td>\n",
       "      <td>8.5</td>\n",
       "      <td>967.40000</td>\n",
       "      <td>6</td>\n",
       "      <td>25.011037</td>\n",
       "      <td>121.479946</td>\n",
       "      <td>21.654710</td>\n",
       "    </tr>\n",
       "    <tr>\n",
       "      <th>...</th>\n",
       "      <td>...</td>\n",
       "      <td>...</td>\n",
       "      <td>...</td>\n",
       "      <td>...</td>\n",
       "      <td>...</td>\n",
       "      <td>...</td>\n",
       "      <td>...</td>\n",
       "    </tr>\n",
       "    <tr>\n",
       "      <th>409</th>\n",
       "      <td>2013-07-25 15:30:36.565239</td>\n",
       "      <td>18.3</td>\n",
       "      <td>170.12890</td>\n",
       "      <td>6</td>\n",
       "      <td>24.981186</td>\n",
       "      <td>121.486798</td>\n",
       "      <td>29.096310</td>\n",
       "    </tr>\n",
       "    <tr>\n",
       "      <th>410</th>\n",
       "      <td>2013-07-26 17:16:34.019780</td>\n",
       "      <td>11.9</td>\n",
       "      <td>323.69120</td>\n",
       "      <td>2</td>\n",
       "      <td>24.950070</td>\n",
       "      <td>121.483918</td>\n",
       "      <td>33.871347</td>\n",
       "    </tr>\n",
       "    <tr>\n",
       "      <th>411</th>\n",
       "      <td>2013-07-28 21:47:23.339050</td>\n",
       "      <td>0.0</td>\n",
       "      <td>451.64190</td>\n",
       "      <td>8</td>\n",
       "      <td>24.963901</td>\n",
       "      <td>121.543387</td>\n",
       "      <td>25.255105</td>\n",
       "    </tr>\n",
       "    <tr>\n",
       "      <th>412</th>\n",
       "      <td>2013-07-29 13:33:29.405317</td>\n",
       "      <td>35.9</td>\n",
       "      <td>292.99780</td>\n",
       "      <td>5</td>\n",
       "      <td>24.997863</td>\n",
       "      <td>121.558286</td>\n",
       "      <td>25.285620</td>\n",
       "    </tr>\n",
       "    <tr>\n",
       "      <th>413</th>\n",
       "      <td>2013-08-01 09:49:41.506402</td>\n",
       "      <td>12.0</td>\n",
       "      <td>90.45606</td>\n",
       "      <td>6</td>\n",
       "      <td>24.952904</td>\n",
       "      <td>121.526395</td>\n",
       "      <td>37.580554</td>\n",
       "    </tr>\n",
       "  </tbody>\n",
       "</table>\n",
       "<p>414 rows × 7 columns</p>\n",
       "</div>"
      ],
      "text/plain": [
       "               Transaction date  House age  \\\n",
       "0    2012-09-02 16:42:30.519336       13.3   \n",
       "1    2012-09-04 22:52:29.919544       35.5   \n",
       "2    2012-09-05 01:10:52.349449        1.1   \n",
       "3    2012-09-05 13:26:01.189083       22.2   \n",
       "4    2012-09-06 08:29:47.910523        8.5   \n",
       "..                          ...        ...   \n",
       "409  2013-07-25 15:30:36.565239       18.3   \n",
       "410  2013-07-26 17:16:34.019780       11.9   \n",
       "411  2013-07-28 21:47:23.339050        0.0   \n",
       "412  2013-07-29 13:33:29.405317       35.9   \n",
       "413  2013-08-01 09:49:41.506402       12.0   \n",
       "\n",
       "     Distance to the nearest MRT station  Number of convenience stores  \\\n",
       "0                             4082.01500                             8   \n",
       "1                              274.01440                             2   \n",
       "2                             1978.67100                            10   \n",
       "3                             1055.06700                             5   \n",
       "4                              967.40000                             6   \n",
       "..                                   ...                           ...   \n",
       "409                            170.12890                             6   \n",
       "410                            323.69120                             2   \n",
       "411                            451.64190                             8   \n",
       "412                            292.99780                             5   \n",
       "413                             90.45606                             6   \n",
       "\n",
       "      Latitude   Longitude  House price of unit area  \n",
       "0    25.007059  121.561694                  6.488673  \n",
       "1    25.012148  121.546990                 24.970725  \n",
       "2    25.003850  121.528336                 26.694267  \n",
       "3    24.962887  121.482178                 38.091638  \n",
       "4    25.011037  121.479946                 21.654710  \n",
       "..         ...         ...                       ...  \n",
       "409  24.981186  121.486798                 29.096310  \n",
       "410  24.950070  121.483918                 33.871347  \n",
       "411  24.963901  121.543387                 25.255105  \n",
       "412  24.997863  121.558286                 25.285620  \n",
       "413  24.952904  121.526395                 37.580554  \n",
       "\n",
       "[414 rows x 7 columns]"
      ]
     },
     "execution_count": 216,
     "metadata": {},
     "output_type": "execute_result"
    }
   ],
   "source": [
    "df"
   ]
  },
  {
   "cell_type": "markdown",
   "id": "e5806c9b",
   "metadata": {},
   "source": [
    "# Property Locations Map based on latitude and longitude data."
   ]
  },
  {
   "cell_type": "code",
   "execution_count": 217,
   "id": "dbf95a53",
   "metadata": {},
   "outputs": [
    {
     "data": {
      "application/vnd.plotly.v1+json": {
       "config": {
        "plotlyServerURL": "https://plot.ly"
       },
       "data": [
        {
         "hovertemplate": "x=%{x}<br>y=%{y}<br>z=%{z}<br>color=%{marker.color}<extra></extra>",
         "legendgroup": "",
         "marker": {
          "color": [
           8,
           2,
           10,
           5,
           6,
           2,
           3,
           5,
           3,
           8,
           5,
           8,
           9,
           2,
           5,
           8,
           5,
           0,
           4,
           1,
           6,
           0,
           6,
           6,
           0,
           9,
           3,
           0,
           7,
           1,
           3,
           4,
           3,
           2,
           0,
           10,
           5,
           8,
           4,
           8,
           9,
           2,
           4,
           1,
           7,
           4,
           1,
           6,
           9,
           0,
           6,
           3,
           4,
           8,
           6,
           0,
           1,
           5,
           1,
           4,
           6,
           6,
           9,
           1,
           7,
           4,
           0,
           5,
           5,
           5,
           3,
           9,
           4,
           8,
           5,
           3,
           9,
           8,
           5,
           10,
           3,
           7,
           5,
           0,
           7,
           4,
           0,
           9,
           9,
           0,
           8,
           2,
           8,
           2,
           8,
           4,
           7,
           6,
           5,
           7,
           3,
           9,
           6,
           8,
           9,
           3,
           7,
           7,
           5,
           3,
           8,
           3,
           1,
           6,
           0,
           0,
           7,
           5,
           2,
           6,
           0,
           0,
           5,
           0,
           0,
           8,
           5,
           3,
           4,
           5,
           2,
           8,
           6,
           1,
           8,
           6,
           5,
           0,
           6,
           4,
           2,
           7,
           4,
           3,
           3,
           6,
           7,
           10,
           1,
           1,
           6,
           5,
           1,
           3,
           1,
           5,
           8,
           9,
           1,
           5,
           4,
           4,
           1,
           5,
           0,
           7,
           3,
           5,
           6,
           2,
           2,
           8,
           10,
           8,
           5,
           7,
           0,
           7,
           1,
           1,
           6,
           6,
           2,
           5,
           5,
           2,
           8,
           0,
           3,
           5,
           2,
           5,
           3,
           5,
           5,
           8,
           6,
           6,
           6,
           7,
           2,
           6,
           0,
           7,
           8,
           1,
           0,
           1,
           6,
           5,
           5,
           5,
           3,
           0,
           1,
           5,
           6,
           5,
           5,
           5,
           4,
           1,
           7,
           7,
           5,
           0,
           3,
           0,
           0,
           9,
           9,
           1,
           3,
           7,
           5,
           6,
           5,
           10,
           2,
           1,
           0,
           6,
           5,
           2,
           7,
           4,
           7,
           6,
           8,
           2,
           1,
           8,
           1,
           6,
           6,
           0,
           7,
           3,
           3,
           1,
           5,
           1,
           1,
           0,
           3,
           9,
           0,
           9,
           6,
           5,
           0,
           9,
           3,
           0,
           5,
           0,
           3,
           8,
           3,
           5,
           6,
           5,
           8,
           0,
           5,
           5,
           0,
           0,
           0,
           5,
           1,
           1,
           2,
           3,
           3,
           6,
           6,
           7,
           0,
           1,
           5,
           0,
           8,
           7,
           2,
           1,
           5,
           8,
           0,
           5,
           0,
           5,
           0,
           7,
           2,
           7,
           8,
           0,
           8,
           5,
           5,
           5,
           0,
           3,
           2,
           3,
           4,
           1,
           7,
           1,
           8,
           1,
           6,
           5,
           0,
           5,
           0,
           6,
           4,
           1,
           0,
           2,
           6,
           3,
           3,
           4,
           7,
           3,
           1,
           0,
           8,
           0,
           8,
           0,
           0,
           8,
           3,
           5,
           7,
           6,
           7,
           5,
           6,
           5,
           3,
           3,
           2,
           0,
           7,
           2,
           5,
           1,
           4,
           1,
           0,
           4,
           2,
           1,
           6,
           5,
           8,
           1,
           8,
           3,
           8,
           7,
           0,
           3,
           0,
           8,
           3,
           4,
           8,
           0,
           8,
           5,
           5,
           10,
           2,
           9,
           4,
           0,
           7,
           1,
           1,
           9,
           4,
           9,
           7,
           6,
           2,
           8,
           5,
           6
          ],
          "coloraxis": "coloraxis",
          "symbol": "circle"
         },
         "mode": "markers",
         "name": "",
         "scene": "scene",
         "showlegend": false,
         "type": "scatter3d",
         "x": [
          121.561694217708,
          121.546989844571,
          121.528336472882,
          121.48217837539,
          121.479946198787,
          121.543823378185,
          121.558955290137,
          121.544377460949,
          121.527841153188,
          121.483457129929,
          121.553288864048,
          121.501478179942,
          121.544776878868,
          121.510671626083,
          121.545059337793,
          121.476564397747,
          121.550592131391,
          121.548224759051,
          121.477005679317,
          121.515410391159,
          121.497346841029,
          121.544733694032,
          121.477153278647,
          121.488075621202,
          121.477439083807,
          121.545295251353,
          121.509305352086,
          121.552214187846,
          121.520407567452,
          121.47553957665,
          121.512824057515,
          121.512329024276,
          121.510337038441,
          121.47622695801,
          121.559726485722,
          121.549057220556,
          121.513081867057,
          121.490005422117,
          121.495703922059,
          121.535876581756,
          121.552377100616,
          121.476774911182,
          121.481346883592,
          121.546926377628,
          121.491840707064,
          121.529953167661,
          121.555341210871,
          121.494471512805,
          121.493701334288,
          121.4953205508,
          121.498532768249,
          121.564638541706,
          121.536739553015,
          121.559393057324,
          121.538139942001,
          121.488671071553,
          121.555845990375,
          121.482351747521,
          121.550517942203,
          121.559968941094,
          121.496696726214,
          121.481171437196,
          121.528801714431,
          121.477831650654,
          121.498225706981,
          121.484122063674,
          121.520630203822,
          121.524701870711,
          121.560528782084,
          121.528652676866,
          121.494687044102,
          121.551065568013,
          121.474397914293,
          121.52104717819,
          121.533403748726,
          121.501294404301,
          121.501103930543,
          121.533671601927,
          121.531647881162,
          121.545843844792,
          121.549018034314,
          121.494506030188,
          121.483165821044,
          121.478398589248,
          121.523703175925,
          121.545300415406,
          121.498544870836,
          121.524680608547,
          121.543213074152,
          121.476301176886,
          121.473987127207,
          121.530267546534,
          121.561402482183,
          121.507498337799,
          121.509261939186,
          121.534930131918,
          121.51565550459,
          121.56048215393,
          121.521014496693,
          121.528879041694,
          121.550223610758,
          121.533122465437,
          121.485672893099,
          121.498134185302,
          121.528352548265,
          121.510519119633,
          121.519100587716,
          121.559298258784,
          121.476071144427,
          121.515875003408,
          121.497324067565,
          121.544376640597,
          121.479859804846,
          121.478668509483,
          121.539496839072,
          121.490214516803,
          121.495974305129,
          121.549074624242,
          121.473887978837,
          121.503169016925,
          121.516642822805,
          121.524813767173,
          121.536916810635,
          121.505191927671,
          121.549169761689,
          121.539823807733,
          121.545940327481,
          121.493819964154,
          121.513937991554,
          121.523598981335,
          121.511162857079,
          121.506620103232,
          121.474472696787,
          121.519414479522,
          121.518772144879,
          121.486034319976,
          121.510587545117,
          121.507848626077,
          121.53815376669,
          121.534473266153,
          121.536199537917,
          121.555066317953,
          121.48300656377,
          121.507861907042,
          121.504750005664,
          121.487939123867,
          121.524683120688,
          121.545250944333,
          121.549660264651,
          121.515115248177,
          121.537601355358,
          121.487138930842,
          121.487708741278,
          121.494621986352,
          121.51100823294,
          121.506569178382,
          121.511228204485,
          121.545901513722,
          121.513391824543,
          121.528411130979,
          121.499466920685,
          121.552396575431,
          121.542509483252,
          121.48261130064,
          121.53244901096,
          121.563923958209,
          121.52503644977,
          121.491753117454,
          121.507313751459,
          121.490972633018,
          121.543209867701,
          121.489200839286,
          121.510372638243,
          121.543777845948,
          121.506975266459,
          121.503063097756,
          121.552742666566,
          121.496493822971,
          121.502245444152,
          121.525458582991,
          121.540103656358,
          121.553908034284,
          121.545242323504,
          121.502963241369,
          121.534382133383,
          121.484368259356,
          121.515622851935,
          121.543205374459,
          121.529324764011,
          121.485552033909,
          121.503670400794,
          121.509084791298,
          121.564449984848,
          121.548825884072,
          121.564475382211,
          121.49103763487,
          121.528440260775,
          121.506590408451,
          121.531078283658,
          121.560382599973,
          121.522618229086,
          121.493785657031,
          121.504131685618,
          121.56122828887,
          121.521305284315,
          121.552233651822,
          121.492879229081,
          121.53647214109,
          121.54357092445,
          121.530284075767,
          121.515432839607,
          121.494502511349,
          121.564196423579,
          121.527413663304,
          121.495309583988,
          121.474264456462,
          121.476121739881,
          121.496742624,
          121.502779009311,
          121.516105680091,
          121.535324553816,
          121.552867564015,
          121.519061259634,
          121.524255372031,
          121.507486454721,
          121.482672115367,
          121.483100131023,
          121.516721944712,
          121.561186917581,
          121.495368644815,
          121.512572179977,
          121.552253256287,
          121.550603114789,
          121.552082388495,
          121.478116610574,
          121.50855610041,
          121.486778470364,
          121.561198968459,
          121.528104940535,
          121.474911826696,
          121.508812902902,
          121.477151242889,
          121.520808721234,
          121.509664266042,
          121.485262731094,
          121.564698961553,
          121.548520317988,
          121.545850767427,
          121.538224533852,
          121.551772713548,
          121.559959311858,
          121.526692903371,
          121.498883575271,
          121.483754359364,
          121.484982947199,
          121.478816073007,
          121.518166444311,
          121.493146177628,
          121.556824877912,
          121.540408307643,
          121.528355192064,
          121.533266493756,
          121.524611125852,
          121.52125486738,
          121.524174327897,
          121.55152355424,
          121.556140863518,
          121.484718735725,
          121.484393738707,
          121.497750917334,
          121.544501172959,
          121.543042044793,
          121.477165621372,
          121.55020711677,
          121.523796689448,
          121.560542727109,
          121.477584192181,
          121.525655937544,
          121.564848147613,
          121.479863471145,
          121.558447103774,
          121.53456452795,
          121.546822859116,
          121.476566111867,
          121.529341170778,
          121.524749133506,
          121.539420209174,
          121.541579149296,
          121.543648274117,
          121.47472423727,
          121.533511954901,
          121.530024637999,
          121.535447464416,
          121.549554265332,
          121.539034817522,
          121.563625058176,
          121.515559603617,
          121.510362586434,
          121.473970283551,
          121.519666281267,
          121.522043115123,
          121.489976247466,
          121.489833971997,
          121.507956291454,
          121.518503522438,
          121.563177276272,
          121.513086163396,
          121.56292282093,
          121.481339403252,
          121.550870115034,
          121.48395314959,
          121.564081577135,
          121.520479180344,
          121.531978162833,
          121.565099930514,
          121.563366131545,
          121.497469968824,
          121.478951940109,
          121.4878066551,
          121.527141193798,
          121.552600991752,
          121.561809241116,
          121.558400528992,
          121.520063932535,
          121.494621291426,
          121.513020319336,
          121.501910555157,
          121.53126672641,
          121.479233384353,
          121.498814212177,
          121.509632483318,
          121.482086595594,
          121.552603275942,
          121.562783717047,
          121.505381905749,
          121.538104013127,
          121.527787155457,
          121.551770874902,
          121.477766092588,
          121.496022419187,
          121.52386766242,
          121.523027482296,
          121.561963453562,
          121.487579837357,
          121.53085009973,
          121.534004989952,
          121.529881676725,
          121.56173522273,
          121.477360750611,
          121.495845454963,
          121.565320793587,
          121.515122231269,
          121.477241183493,
          121.518072604473,
          121.502265721715,
          121.537177546155,
          121.559418202761,
          121.50239502806,
          121.562201462995,
          121.497300202701,
          121.535022326804,
          121.555067688156,
          121.494277585657,
          121.474436766985,
          121.55921570236,
          121.513896583618,
          121.502422982451,
          121.546216263273,
          121.511783533227,
          121.529006374348,
          121.532228746278,
          121.500346083886,
          121.543774757573,
          121.556559417032,
          121.516533045255,
          121.482693252662,
          121.506904716937,
          121.548073640757,
          121.514014013632,
          121.509891494595,
          121.507963876976,
          121.520437765203,
          121.507043569549,
          121.496772631322,
          121.486921453747,
          121.545535288441,
          121.531196654236,
          121.549828171103,
          121.563499937105,
          121.497146112557,
          121.529822175827,
          121.550386819165,
          121.512691890418,
          121.554129153937,
          121.507760235716,
          121.536717070371,
          121.546937185183,
          121.496262062211,
          121.557961381823,
          121.565026705774,
          121.508507909253,
          121.552804084575,
          121.546558262183,
          121.51013670466,
          121.528018316543,
          121.522239209861,
          121.523511704094,
          121.516353058377,
          121.548609185381,
          121.486797516517,
          121.483918243561,
          121.543387393163,
          121.558285927155,
          121.526395420643
         ],
         "y": [
          25.0070586835347,
          25.0121482576502,
          25.0038498628365,
          24.9628870027666,
          25.0110368202032,
          24.9949935390321,
          25.0098948639372,
          24.9971093438101,
          24.9876216824302,
          24.9786630373686,
          24.9348959724228,
          24.9930941813379,
          24.9697939870061,
          25.0116614324946,
          24.9371970340718,
          24.9754686411264,
          24.9575404413999,
          24.9602904534975,
          24.9721577932031,
          24.943551278651,
          24.9605818323504,
          24.9570635077195,
          24.9527990336156,
          24.9485640217219,
          24.9877757753084,
          24.9707858958776,
          24.9944441888194,
          24.9380463341762,
          24.9948082321329,
          24.984199412755,
          24.9908770084506,
          24.9970650957123,
          24.9947747398421,
          24.9446364018986,
          24.9643233025962,
          24.9822111412461,
          24.9482972516287,
          24.9540764486134,
          24.9829799309004,
          24.9625975061915,
          24.9599486283398,
          24.9689190369041,
          25.013381894155,
          24.9743458261431,
          24.9489349220054,
          24.9936867034697,
          24.9438768313581,
          24.9346755358333,
          24.9366895883555,
          24.9858290618558,
          24.9978593940214,
          24.9641017127301,
          24.983603531753,
          24.9851467630134,
          24.9483016712827,
          24.956711599438,
          24.9466707162414,
          24.9368124766351,
          24.9675730316466,
          24.9971795449205,
          24.9708538799592,
          24.9382525174361,
          24.9745234424819,
          24.9963868085687,
          24.9738457674107,
          24.9938752540809,
          24.9601138476602,
          24.9856280870984,
          25.0061821171755,
          24.9697704997973,
          24.9893713836927,
          24.9328436396641,
          24.9355866667961,
          24.9732089884383,
          24.9859154838673,
          24.9407653394523,
          25.0127401505021,
          25.0136849317044,
          25.008342583011,
          25.0128285680263,
          24.9675656165918,
          24.9332897220076,
          24.9422856203814,
          24.9796557129581,
          24.9321270671504,
          24.9444066188135,
          24.9588107975457,
          24.9990150843913,
          25.0064211728668,
          24.9321291635048,
          24.9833473165435,
          24.9871284372743,
          24.9709078196502,
          24.9965585974719,
          25.0088489503057,
          24.938802072686,
          24.9357394864412,
          24.9632958460854,
          24.9838381852884,
          25.0056201914949,
          24.9712575001039,
          24.9482747944162,
          25.0088859730452,
          24.9386951046129,
          25.0051659139294,
          24.9450488628086,
          25.0140030095153,
          24.9746169198454,
          24.9967057857405,
          24.9768239339952,
          24.9816590478066,
          24.9442821146573,
          24.9914405919857,
          24.9697868243887,
          24.9920497469549,
          25.0003182508366,
          24.9823689698026,
          24.9540145838766,
          24.9716655871468,
          24.9424433657278,
          24.9460930350282,
          24.9321621075599,
          24.9951044470995,
          24.9381413216714,
          24.989952890821,
          24.9845418096922,
          24.9713497806031,
          25.0093784235421,
          25.0145779378903,
          24.9524031196434,
          24.9350062103266,
          25.0081611872601,
          24.9645961553053,
          24.9424519368806,
          24.9795304656241,
          24.9415406027682,
          24.9401288745801,
          24.9709539822217,
          24.9701042431144,
          24.9779246342823,
          24.9521969416284,
          24.9934261963371,
          24.9718202282814,
          24.9942146782477,
          24.9557306170421,
          24.9790927192513,
          24.9744180027889,
          24.9957450834024,
          24.9697297560591,
          24.9647672694358,
          24.9513556241635,
          24.9962192209167,
          24.9490277879196,
          24.9885796263289,
          25.0080758377221,
          24.9923098066879,
          24.9752580533036,
          25.0123698651947,
          24.9639671531933,
          25.006474193976,
          24.9991772070207,
          24.9718964442216,
          24.9952664962135,
          25.003556381245,
          24.955764922707,
          24.9339128004795,
          24.9401483777982,
          24.9863846018072,
          24.9957264003105,
          24.9546838279735,
          24.9843582413234,
          24.9447436289283,
          24.9328047579623,
          24.9614834196357,
          24.9525034203157,
          24.9351862932981,
          24.9418842911422,
          24.9540983675674,
          24.9873938924939,
          24.9557081465153,
          24.960983936636,
          24.987028751966,
          25.0113661118635,
          25.0111361845199,
          24.9919230952376,
          24.9519322324496,
          24.9439139774923,
          24.9613498397635,
          24.9854784270977,
          24.9524175384487,
          24.9774838696277,
          25.0051924586141,
          24.9337320563806,
          24.9913291831649,
          24.9587541192724,
          24.9956926467688,
          24.9708204133524,
          25.0000120786306,
          24.9734506635597,
          24.9897957038786,
          24.9919616718381,
          24.985067125269,
          24.9370948264546,
          25.0044110266218,
          24.9575537528323,
          24.9654429298803,
          24.9439676549041,
          24.994433498215,
          24.9739048117036,
          24.9776573776306,
          24.9838692004649,
          24.9581191644433,
          24.9598859292486,
          24.9751776327836,
          25.0122266103905,
          24.9776743371829,
          25.0021065008066,
          24.9486524403354,
          24.9620432413373,
          24.966716653172,
          24.9808391387239,
          25.0033120013404,
          24.9911231444723,
          25.0061888251179,
          25.0052951998831,
          24.995700503196,
          24.9644799395326,
          24.9976161042729,
          24.985405084478,
          24.9524336587173,
          24.9877448261161,
          24.9502924199248,
          24.9599849804594,
          24.9959123442901,
          24.9864180078886,
          25.0035701694063,
          24.9745368454271,
          24.9570944227429,
          24.9733317661212,
          24.9736146344216,
          24.9348008924763,
          24.9467527574116,
          24.9756669657871,
          25.0114411405546,
          24.9939353632242,
          24.9578584068533,
          24.994743122765,
          25.0086064579176,
          24.9747428563129,
          24.9623119243281,
          24.9636208454535,
          25.0143045523001,
          24.9370488725631,
          24.9957128222874,
          25.0060951834041,
          24.9320749981209,
          24.9390163753487,
          24.9680390658577,
          24.9773930586236,
          24.9854777574087,
          24.9982803968323,
          25.0088227408338,
          24.9628586975459,
          25.0086451241829,
          24.9723231958361,
          24.9717143760364,
          24.9743605407924,
          24.939245555155,
          24.9503713722857,
          25.0067043688249,
          24.9508149619698,
          24.9997360458752,
          24.9812175625249,
          24.9335362713515,
          24.9405192187774,
          24.9893989632247,
          25.0105428775829,
          24.9489875418455,
          24.9790821425828,
          24.9603678239416,
          24.9510748168739,
          24.9357776055335,
          24.981883150261,
          24.9803144755511,
          24.9927832718674,
          24.9753100244608,
          25.0008044905366,
          24.9797181375502,
          24.9702808901296,
          24.9759042215307,
          24.9958272390794,
          24.9702423275785,
          24.9448102297685,
          24.9574289377502,
          24.9417654062649,
          25.0135478096352,
          24.9974851194064,
          24.9569340124719,
          25.0065838151637,
          24.9957801288854,
          24.9425572274768,
          24.9512407575562,
          24.9741568669919,
          24.932508597126,
          25.0103355249416,
          25.0021572343702,
          24.9759975103728,
          24.941949744065,
          24.9684487356731,
          24.9852811206135,
          24.9446742980789,
          24.9671288397822,
          24.9854184034903,
          24.976781184348,
          24.944071345993,
          24.9550376931561,
          24.9827126996437,
          25.011612100037,
          24.9654611667936,
          24.9982688459685,
          24.9421989021382,
          24.996894001276,
          24.9404353857674,
          24.9914003204642,
          24.9529118331392,
          25.008985211766,
          25.0084829729508,
          24.9551072521451,
          25.0030670774162,
          24.9525157602244,
          25.0015849978515,
          24.9454754342949,
          24.9962905073478,
          24.9353066242189,
          24.9928860217916,
          24.969850559053,
          24.9474960577189,
          25.0126723965502,
          24.9546538713376,
          24.9847045814806,
          24.9408836592938,
          24.9852126274966,
          24.9634767306023,
          24.9777295738846,
          24.9977184053681,
          24.9331953869432,
          24.9901612390219,
          24.9535737427587,
          24.9580656237577,
          24.9791413398419,
          24.9538013548986,
          24.9882755963917,
          25.0132721804746,
          25.0092081445986,
          24.9447887953639,
          24.9373368691988,
          24.9449512296973,
          24.9618685065608,
          24.9888098684987,
          24.9730476037149,
          24.9817234025616,
          25.007753380337,
          25.0070425820581,
          24.9907924282586,
          24.9536003801197,
          24.9832368214509,
          24.9395892581707,
          24.9348568297238,
          24.9888819609943,
          25.000031156713,
          24.99605822381,
          24.9571083226827,
          25.003014469972,
          25.0080335865763,
          24.9539343447117,
          24.9584285110504,
          24.9520836791151,
          24.9728010966159,
          24.9503341311035,
          24.9431630036146,
          25.0129734164791,
          24.9495066046057,
          24.9343044956591,
          24.9443634062458,
          25.010085971764,
          24.9875968137397,
          24.9983115811737,
          25.0021610820279,
          24.9633996643667,
          24.9896684500062,
          24.9863104794201,
          24.9498909829006,
          24.985164945119,
          24.9676570243609,
          24.9508738912962,
          24.9689347167273,
          25.0018064970458,
          24.9973940316607,
          24.9977655838095,
          25.010412003858,
          24.9445623439068,
          25.0041091820448,
          24.9480836734751,
          24.9389089417623,
          25.002052156587,
          24.9383291495903,
          24.9398844155088,
          24.9351673345662,
          24.9374435770296,
          24.9811856914186,
          24.9500699236124,
          24.9639011877274,
          24.9978626071598,
          24.952904088349
         ],
         "z": [
          13.3,
          35.5,
          1.1,
          22.2,
          8.5,
          13.3,
          38.5,
          15.2,
          24,
          13,
          13.2,
          6.5,
          27.5,
          12.9,
          8,
          4.9,
          3.1,
          10.3,
          1.1,
          13.7,
          8.4,
          31.3,
          17.3,
          14.1,
          1.5,
          16.1,
          34.4,
          18.2,
          11.9,
          5.4,
          9.7,
          38.5,
          32.8,
          31,
          34.8,
          9.9,
          5.9,
          37.1,
          26.8,
          30.4,
          4,
          5.4,
          25.3,
          16.4,
          26.4,
          8,
          19.2,
          30.3,
          12.9,
          13.5,
          13.2,
          8.1,
          32.3,
          38,
          13,
          34.4,
          34.4,
          24.2,
          13.2,
          16.1,
          5.6,
          14.2,
          3.8,
          38.2,
          25.3,
          15.6,
          26.8,
          0,
          18.9,
          16.6,
          7.6,
          12,
          6.6,
          37.1,
          25.3,
          11.6,
          25.9,
          29.4,
          17.5,
          32.6,
          24.2,
          16.3,
          16.1,
          0,
          31.3,
          39.2,
          0,
          18.4,
          33,
          13,
          17.7,
          13.3,
          11.6,
          35.9,
          5.6,
          16.2,
          11.6,
          0,
          35.4,
          37.7,
          40.9,
          17.3,
          34.9,
          32,
          13.7,
          12.7,
          4.5,
          33.6,
          12.7,
          12,
          39.8,
          13.5,
          6.8,
          18.3,
          13.3,
          38,
          17,
          15.1,
          34.8,
          13.3,
          34.5,
          37.8,
          32.6,
          5.3,
          4.3,
          4,
          14,
          28.2,
          6.5,
          35.3,
          32.1,
          15.7,
          6.4,
          32.7,
          17.5,
          14,
          20.6,
          25.6,
          13.2,
          17.5,
          12.6,
          20.4,
          0,
          33.4,
          30,
          31,
          17.7,
          10.4,
          16.9,
          16.2,
          23,
          1.1,
          4.5,
          12,
          32.5,
          17.4,
          16.1,
          31,
          0,
          16.6,
          30.9,
          35.8,
          39.2,
          30.6,
          3.8,
          30.9,
          33.9,
          15.9,
          24.2,
          15,
          17.8,
          15.2,
          0,
          39.8,
          18.2,
          1.5,
          15.5,
          0,
          18.1,
          11.5,
          13.9,
          8.9,
          40.9,
          30.6,
          17.9,
          27.5,
          22.2,
          13.9,
          36.6,
          26.9,
          3.8,
          18,
          13.3,
          30.4,
          35.9,
          17.4,
          18.1,
          8.1,
          16.9,
          31.9,
          34,
          17.2,
          4.1,
          37.7,
          3.5,
          18.2,
          3.8,
          10.3,
          7.1,
          17.5,
          12.8,
          12.2,
          6.5,
          14.8,
          34.8,
          41.3,
          32.5,
          3.9,
          1.1,
          8,
          13.7,
          17.2,
          2.6,
          23,
          17.5,
          18.9,
          32.3,
          40.9,
          0,
          4.7,
          8.9,
          10,
          28,
          4,
          19.2,
          34.6,
          17.3,
          24.2,
          11.5,
          3.1,
          12.5,
          39.7,
          26.9,
          28.6,
          35.5,
          37.1,
          18.1,
          20.6,
          15.9,
          14.4,
          5.4,
          36.1,
          7.8,
          16.9,
          34.8,
          2,
          34.5,
          16.2,
          0,
          8.3,
          10,
          4,
          37.3,
          40.9,
          2,
          0,
          0,
          12.7,
          2.6,
          6.8,
          30.4,
          7.1,
          30.8,
          19.1,
          19.2,
          5.2,
          21.7,
          1.1,
          34.9,
          20.9,
          30.9,
          5.9,
          10.4,
          20.4,
          6.8,
          33.2,
          16.3,
          16.2,
          16.1,
          5.6,
          28,
          13.8,
          14.1,
          40.9,
          40.9,
          17,
          29.3,
          31.5,
          1.1,
          0,
          16.2,
          16.5,
          15,
          13.5,
          4,
          35.8,
          30.9,
          12.6,
          0,
          8.5,
          18.4,
          3.6,
          1.1,
          13.6,
          16.9,
          9.9,
          13.1,
          13.7,
          37.8,
          0,
          16.9,
          17.3,
          6.3,
          18,
          17.1,
          13.7,
          16.4,
          37.1,
          4,
          31.5,
          42.7,
          1.1,
          18.2,
          17.5,
          40.9,
          2.1,
          13.6,
          18.5,
          32,
          0,
          6.2,
          21.2,
          13,
          20.3,
          30.1,
          3.6,
          16.6,
          16.5,
          20,
          16.4,
          18,
          6.4,
          2,
          30.9,
          32.6,
          11.8,
          31.9,
          16,
          15.2,
          13.6,
          29.1,
          6.2,
          17.9,
          30.9,
          35.3,
          0,
          16.1,
          13,
          13.7,
          30.7,
          39.8,
          25.3,
          40.1,
          5.6,
          30.6,
          6.3,
          0,
          10.5,
          25.3,
          16.2,
          35.9,
          32,
          17.8,
          4.6,
          24.2,
          0,
          15.9,
          7.1,
          17.5,
          40.9,
          7.1,
          0,
          33.5,
          13.6,
          0,
          28.2,
          31.5,
          34.4,
          13.3,
          35.9,
          31.5,
          11.8,
          21.7,
          32.8,
          13.8,
          21.7,
          16.6,
          20.6,
          15.1,
          18.3,
          11.9,
          0,
          35.9,
          12
         ]
        }
       ],
       "layout": {
        "autosize": true,
        "coloraxis": {
         "colorbar": {
          "title": {
           "text": "color"
          }
         },
         "colorscale": [
          [
           0,
           "#0d0887"
          ],
          [
           0.1111111111111111,
           "#46039f"
          ],
          [
           0.2222222222222222,
           "#7201a8"
          ],
          [
           0.3333333333333333,
           "#9c179e"
          ],
          [
           0.4444444444444444,
           "#bd3786"
          ],
          [
           0.5555555555555556,
           "#d8576b"
          ],
          [
           0.6666666666666666,
           "#ed7953"
          ],
          [
           0.7777777777777778,
           "#fb9f3a"
          ],
          [
           0.8888888888888888,
           "#fdca26"
          ],
          [
           1,
           "#f0f921"
          ]
         ]
        },
        "legend": {
         "tracegroupgap": 0
        },
        "margin": {
         "t": 60
        },
        "scene": {
         "aspectmode": "auto",
         "aspectratio": {
          "x": 1,
          "y": 1,
          "z": 1
         },
         "camera": {
          "center": {
           "x": 0,
           "y": 0,
           "z": 0
          },
          "eye": {
           "x": 1.0615157779394844,
           "y": 1.0615157779394842,
           "z": 1.0615157779394844
          },
          "projection": {
           "type": "perspective"
          },
          "up": {
           "x": 0.0023645001875779548,
           "y": -0.0023589224838116906,
           "z": 0.9999944222962338
          }
         },
         "domain": {
          "x": [
           0,
           1
          ],
          "y": [
           0,
           1
          ]
         },
         "xaxis": {
          "title": {
           "text": "x"
          },
          "type": "linear"
         },
         "yaxis": {
          "title": {
           "text": "y"
          },
          "type": "linear"
         },
         "zaxis": {
          "title": {
           "text": "z"
          },
          "type": "linear"
         }
        },
        "template": {
         "data": {
          "bar": [
           {
            "error_x": {
             "color": "#2a3f5f"
            },
            "error_y": {
             "color": "#2a3f5f"
            },
            "marker": {
             "line": {
              "color": "#E5ECF6",
              "width": 0.5
             },
             "pattern": {
              "fillmode": "overlay",
              "size": 10,
              "solidity": 0.2
             }
            },
            "type": "bar"
           }
          ],
          "barpolar": [
           {
            "marker": {
             "line": {
              "color": "#E5ECF6",
              "width": 0.5
             },
             "pattern": {
              "fillmode": "overlay",
              "size": 10,
              "solidity": 0.2
             }
            },
            "type": "barpolar"
           }
          ],
          "carpet": [
           {
            "aaxis": {
             "endlinecolor": "#2a3f5f",
             "gridcolor": "white",
             "linecolor": "white",
             "minorgridcolor": "white",
             "startlinecolor": "#2a3f5f"
            },
            "baxis": {
             "endlinecolor": "#2a3f5f",
             "gridcolor": "white",
             "linecolor": "white",
             "minorgridcolor": "white",
             "startlinecolor": "#2a3f5f"
            },
            "type": "carpet"
           }
          ],
          "choropleth": [
           {
            "colorbar": {
             "outlinewidth": 0,
             "ticks": ""
            },
            "type": "choropleth"
           }
          ],
          "contour": [
           {
            "colorbar": {
             "outlinewidth": 0,
             "ticks": ""
            },
            "colorscale": [
             [
              0,
              "#0d0887"
             ],
             [
              0.1111111111111111,
              "#46039f"
             ],
             [
              0.2222222222222222,
              "#7201a8"
             ],
             [
              0.3333333333333333,
              "#9c179e"
             ],
             [
              0.4444444444444444,
              "#bd3786"
             ],
             [
              0.5555555555555556,
              "#d8576b"
             ],
             [
              0.6666666666666666,
              "#ed7953"
             ],
             [
              0.7777777777777778,
              "#fb9f3a"
             ],
             [
              0.8888888888888888,
              "#fdca26"
             ],
             [
              1,
              "#f0f921"
             ]
            ],
            "type": "contour"
           }
          ],
          "contourcarpet": [
           {
            "colorbar": {
             "outlinewidth": 0,
             "ticks": ""
            },
            "type": "contourcarpet"
           }
          ],
          "heatmap": [
           {
            "colorbar": {
             "outlinewidth": 0,
             "ticks": ""
            },
            "colorscale": [
             [
              0,
              "#0d0887"
             ],
             [
              0.1111111111111111,
              "#46039f"
             ],
             [
              0.2222222222222222,
              "#7201a8"
             ],
             [
              0.3333333333333333,
              "#9c179e"
             ],
             [
              0.4444444444444444,
              "#bd3786"
             ],
             [
              0.5555555555555556,
              "#d8576b"
             ],
             [
              0.6666666666666666,
              "#ed7953"
             ],
             [
              0.7777777777777778,
              "#fb9f3a"
             ],
             [
              0.8888888888888888,
              "#fdca26"
             ],
             [
              1,
              "#f0f921"
             ]
            ],
            "type": "heatmap"
           }
          ],
          "heatmapgl": [
           {
            "colorbar": {
             "outlinewidth": 0,
             "ticks": ""
            },
            "colorscale": [
             [
              0,
              "#0d0887"
             ],
             [
              0.1111111111111111,
              "#46039f"
             ],
             [
              0.2222222222222222,
              "#7201a8"
             ],
             [
              0.3333333333333333,
              "#9c179e"
             ],
             [
              0.4444444444444444,
              "#bd3786"
             ],
             [
              0.5555555555555556,
              "#d8576b"
             ],
             [
              0.6666666666666666,
              "#ed7953"
             ],
             [
              0.7777777777777778,
              "#fb9f3a"
             ],
             [
              0.8888888888888888,
              "#fdca26"
             ],
             [
              1,
              "#f0f921"
             ]
            ],
            "type": "heatmapgl"
           }
          ],
          "histogram": [
           {
            "marker": {
             "pattern": {
              "fillmode": "overlay",
              "size": 10,
              "solidity": 0.2
             }
            },
            "type": "histogram"
           }
          ],
          "histogram2d": [
           {
            "colorbar": {
             "outlinewidth": 0,
             "ticks": ""
            },
            "colorscale": [
             [
              0,
              "#0d0887"
             ],
             [
              0.1111111111111111,
              "#46039f"
             ],
             [
              0.2222222222222222,
              "#7201a8"
             ],
             [
              0.3333333333333333,
              "#9c179e"
             ],
             [
              0.4444444444444444,
              "#bd3786"
             ],
             [
              0.5555555555555556,
              "#d8576b"
             ],
             [
              0.6666666666666666,
              "#ed7953"
             ],
             [
              0.7777777777777778,
              "#fb9f3a"
             ],
             [
              0.8888888888888888,
              "#fdca26"
             ],
             [
              1,
              "#f0f921"
             ]
            ],
            "type": "histogram2d"
           }
          ],
          "histogram2dcontour": [
           {
            "colorbar": {
             "outlinewidth": 0,
             "ticks": ""
            },
            "colorscale": [
             [
              0,
              "#0d0887"
             ],
             [
              0.1111111111111111,
              "#46039f"
             ],
             [
              0.2222222222222222,
              "#7201a8"
             ],
             [
              0.3333333333333333,
              "#9c179e"
             ],
             [
              0.4444444444444444,
              "#bd3786"
             ],
             [
              0.5555555555555556,
              "#d8576b"
             ],
             [
              0.6666666666666666,
              "#ed7953"
             ],
             [
              0.7777777777777778,
              "#fb9f3a"
             ],
             [
              0.8888888888888888,
              "#fdca26"
             ],
             [
              1,
              "#f0f921"
             ]
            ],
            "type": "histogram2dcontour"
           }
          ],
          "mesh3d": [
           {
            "colorbar": {
             "outlinewidth": 0,
             "ticks": ""
            },
            "type": "mesh3d"
           }
          ],
          "parcoords": [
           {
            "line": {
             "colorbar": {
              "outlinewidth": 0,
              "ticks": ""
             }
            },
            "type": "parcoords"
           }
          ],
          "pie": [
           {
            "automargin": true,
            "type": "pie"
           }
          ],
          "scatter": [
           {
            "fillpattern": {
             "fillmode": "overlay",
             "size": 10,
             "solidity": 0.2
            },
            "type": "scatter"
           }
          ],
          "scatter3d": [
           {
            "line": {
             "colorbar": {
              "outlinewidth": 0,
              "ticks": ""
             }
            },
            "marker": {
             "colorbar": {
              "outlinewidth": 0,
              "ticks": ""
             }
            },
            "type": "scatter3d"
           }
          ],
          "scattercarpet": [
           {
            "marker": {
             "colorbar": {
              "outlinewidth": 0,
              "ticks": ""
             }
            },
            "type": "scattercarpet"
           }
          ],
          "scattergeo": [
           {
            "marker": {
             "colorbar": {
              "outlinewidth": 0,
              "ticks": ""
             }
            },
            "type": "scattergeo"
           }
          ],
          "scattergl": [
           {
            "marker": {
             "colorbar": {
              "outlinewidth": 0,
              "ticks": ""
             }
            },
            "type": "scattergl"
           }
          ],
          "scattermapbox": [
           {
            "marker": {
             "colorbar": {
              "outlinewidth": 0,
              "ticks": ""
             }
            },
            "type": "scattermapbox"
           }
          ],
          "scatterpolar": [
           {
            "marker": {
             "colorbar": {
              "outlinewidth": 0,
              "ticks": ""
             }
            },
            "type": "scatterpolar"
           }
          ],
          "scatterpolargl": [
           {
            "marker": {
             "colorbar": {
              "outlinewidth": 0,
              "ticks": ""
             }
            },
            "type": "scatterpolargl"
           }
          ],
          "scatterternary": [
           {
            "marker": {
             "colorbar": {
              "outlinewidth": 0,
              "ticks": ""
             }
            },
            "type": "scatterternary"
           }
          ],
          "surface": [
           {
            "colorbar": {
             "outlinewidth": 0,
             "ticks": ""
            },
            "colorscale": [
             [
              0,
              "#0d0887"
             ],
             [
              0.1111111111111111,
              "#46039f"
             ],
             [
              0.2222222222222222,
              "#7201a8"
             ],
             [
              0.3333333333333333,
              "#9c179e"
             ],
             [
              0.4444444444444444,
              "#bd3786"
             ],
             [
              0.5555555555555556,
              "#d8576b"
             ],
             [
              0.6666666666666666,
              "#ed7953"
             ],
             [
              0.7777777777777778,
              "#fb9f3a"
             ],
             [
              0.8888888888888888,
              "#fdca26"
             ],
             [
              1,
              "#f0f921"
             ]
            ],
            "type": "surface"
           }
          ],
          "table": [
           {
            "cells": {
             "fill": {
              "color": "#EBF0F8"
             },
             "line": {
              "color": "white"
             }
            },
            "header": {
             "fill": {
              "color": "#C8D4E3"
             },
             "line": {
              "color": "white"
             }
            },
            "type": "table"
           }
          ]
         },
         "layout": {
          "annotationdefaults": {
           "arrowcolor": "#2a3f5f",
           "arrowhead": 0,
           "arrowwidth": 1
          },
          "autotypenumbers": "strict",
          "coloraxis": {
           "colorbar": {
            "outlinewidth": 0,
            "ticks": ""
           }
          },
          "colorscale": {
           "diverging": [
            [
             0,
             "#8e0152"
            ],
            [
             0.1,
             "#c51b7d"
            ],
            [
             0.2,
             "#de77ae"
            ],
            [
             0.3,
             "#f1b6da"
            ],
            [
             0.4,
             "#fde0ef"
            ],
            [
             0.5,
             "#f7f7f7"
            ],
            [
             0.6,
             "#e6f5d0"
            ],
            [
             0.7,
             "#b8e186"
            ],
            [
             0.8,
             "#7fbc41"
            ],
            [
             0.9,
             "#4d9221"
            ],
            [
             1,
             "#276419"
            ]
           ],
           "sequential": [
            [
             0,
             "#0d0887"
            ],
            [
             0.1111111111111111,
             "#46039f"
            ],
            [
             0.2222222222222222,
             "#7201a8"
            ],
            [
             0.3333333333333333,
             "#9c179e"
            ],
            [
             0.4444444444444444,
             "#bd3786"
            ],
            [
             0.5555555555555556,
             "#d8576b"
            ],
            [
             0.6666666666666666,
             "#ed7953"
            ],
            [
             0.7777777777777778,
             "#fb9f3a"
            ],
            [
             0.8888888888888888,
             "#fdca26"
            ],
            [
             1,
             "#f0f921"
            ]
           ],
           "sequentialminus": [
            [
             0,
             "#0d0887"
            ],
            [
             0.1111111111111111,
             "#46039f"
            ],
            [
             0.2222222222222222,
             "#7201a8"
            ],
            [
             0.3333333333333333,
             "#9c179e"
            ],
            [
             0.4444444444444444,
             "#bd3786"
            ],
            [
             0.5555555555555556,
             "#d8576b"
            ],
            [
             0.6666666666666666,
             "#ed7953"
            ],
            [
             0.7777777777777778,
             "#fb9f3a"
            ],
            [
             0.8888888888888888,
             "#fdca26"
            ],
            [
             1,
             "#f0f921"
            ]
           ]
          },
          "colorway": [
           "#636efa",
           "#EF553B",
           "#00cc96",
           "#ab63fa",
           "#FFA15A",
           "#19d3f3",
           "#FF6692",
           "#B6E880",
           "#FF97FF",
           "#FECB52"
          ],
          "font": {
           "color": "#2a3f5f"
          },
          "geo": {
           "bgcolor": "white",
           "lakecolor": "white",
           "landcolor": "#E5ECF6",
           "showlakes": true,
           "showland": true,
           "subunitcolor": "white"
          },
          "hoverlabel": {
           "align": "left"
          },
          "hovermode": "closest",
          "mapbox": {
           "style": "light"
          },
          "paper_bgcolor": "white",
          "plot_bgcolor": "#E5ECF6",
          "polar": {
           "angularaxis": {
            "gridcolor": "white",
            "linecolor": "white",
            "ticks": ""
           },
           "bgcolor": "#E5ECF6",
           "radialaxis": {
            "gridcolor": "white",
            "linecolor": "white",
            "ticks": ""
           }
          },
          "scene": {
           "xaxis": {
            "backgroundcolor": "#E5ECF6",
            "gridcolor": "white",
            "gridwidth": 2,
            "linecolor": "white",
            "showbackground": true,
            "ticks": "",
            "zerolinecolor": "white"
           },
           "yaxis": {
            "backgroundcolor": "#E5ECF6",
            "gridcolor": "white",
            "gridwidth": 2,
            "linecolor": "white",
            "showbackground": true,
            "ticks": "",
            "zerolinecolor": "white"
           },
           "zaxis": {
            "backgroundcolor": "#E5ECF6",
            "gridcolor": "white",
            "gridwidth": 2,
            "linecolor": "white",
            "showbackground": true,
            "ticks": "",
            "zerolinecolor": "white"
           }
          },
          "shapedefaults": {
           "line": {
            "color": "#2a3f5f"
           }
          },
          "ternary": {
           "aaxis": {
            "gridcolor": "white",
            "linecolor": "white",
            "ticks": ""
           },
           "baxis": {
            "gridcolor": "white",
            "linecolor": "white",
            "ticks": ""
           },
           "bgcolor": "#E5ECF6",
           "caxis": {
            "gridcolor": "white",
            "linecolor": "white",
            "ticks": ""
           }
          },
          "title": {
           "x": 0.05
          },
          "xaxis": {
           "automargin": true,
           "gridcolor": "white",
           "linecolor": "white",
           "ticks": "",
           "title": {
            "standoff": 15
           },
           "zerolinecolor": "white",
           "zerolinewidth": 2
          },
          "yaxis": {
           "automargin": true,
           "gridcolor": "white",
           "linecolor": "white",
           "ticks": "",
           "title": {
            "standoff": 15
           },
           "zerolinecolor": "white",
           "zerolinewidth": 2
          }
         }
        }
       }
      },
      "image/png": "[encoded data removed]",
      "text/html": [
       "<div>                            <div id=\"deaa9aa0-6c2f-46da-993e-8e45f2b26ca7\" class=\"plotly-graph-div\" style=\"height:525px; width:100%;\"></div>            <script type=\"text/javascript\">                require([\"plotly\"], function(Plotly) {                    window.PLOTLYENV=window.PLOTLYENV || {};                                    if (document.getElementById(\"deaa9aa0-6c2f-46da-993e-8e45f2b26ca7\")) {                    Plotly.newPlot(                        \"deaa9aa0-6c2f-46da-993e-8e45f2b26ca7\",                        [{\"hovertemplate\":\"x=%{x}<br>y=%{y}<br>z=%{z}<br>color=%{marker.color}<extra></extra>\",\"legendgroup\":\"\",\"marker\":{\"color\":[8,2,10,5,6,2,3,5,3,8,5,8,9,2,5,8,5,0,4,1,6,0,6,6,0,9,3,0,7,1,3,4,3,2,0,10,5,8,4,8,9,2,4,1,7,4,1,6,9,0,6,3,4,8,6,0,1,5,1,4,6,6,9,1,7,4,0,5,5,5,3,9,4,8,5,3,9,8,5,10,3,7,5,0,7,4,0,9,9,0,8,2,8,2,8,4,7,6,5,7,3,9,6,8,9,3,7,7,5,3,8,3,1,6,0,0,7,5,2,6,0,0,5,0,0,8,5,3,4,5,2,8,6,1,8,6,5,0,6,4,2,7,4,3,3,6,7,10,1,1,6,5,1,3,1,5,8,9,1,5,4,4,1,5,0,7,3,5,6,2,2,8,10,8,5,7,0,7,1,1,6,6,2,5,5,2,8,0,3,5,2,5,3,5,5,8,6,6,6,7,2,6,0,7,8,1,0,1,6,5,5,5,3,0,1,5,6,5,5,5,4,1,7,7,5,0,3,0,0,9,9,1,3,7,5,6,5,10,2,1,0,6,5,2,7,4,7,6,8,2,1,8,1,6,6,0,7,3,3,1,5,1,1,0,3,9,0,9,6,5,0,9,3,0,5,0,3,8,3,5,6,5,8,0,5,5,0,0,0,5,1,1,2,3,3,6,6,7,0,1,5,0,8,7,2,1,5,8,0,5,0,5,0,7,2,7,8,0,8,5,5,5,0,3,2,3,4,1,7,1,8,1,6,5,0,5,0,6,4,1,0,2,6,3,3,4,7,3,1,0,8,0,8,0,0,8,3,5,7,6,7,5,6,5,3,3,2,0,7,2,5,1,4,1,0,4,2,1,6,5,8,1,8,3,8,7,0,3,0,8,3,4,8,0,8,5,5,10,2,9,4,0,7,1,1,9,4,9,7,6,2,8,5,6],\"coloraxis\":\"coloraxis\",\"symbol\":\"circle\"},\"mode\":\"markers\",\"name\":\"\",\"scene\":\"scene\",\"showlegend\":false,\"x\":[121.561694217708,121.546989844571,121.528336472882,121.48217837539,121.479946198787,121.543823378185,121.558955290137,121.544377460949,121.527841153188,121.483457129929,121.553288864048,121.501478179942,121.544776878868,121.510671626083,121.545059337793,121.476564397747,121.550592131391,121.548224759051,121.477005679317,121.515410391159,121.497346841029,121.544733694032,121.477153278647,121.488075621202,121.477439083807,121.545295251353,121.509305352086,121.552214187846,121.520407567452,121.47553957665,121.512824057515,121.512329024276,121.510337038441,121.47622695801,121.559726485722,121.549057220556,121.513081867057,121.490005422117,121.495703922059,121.535876581756,121.552377100616,121.476774911182,121.481346883592,121.546926377628,121.491840707064,121.529953167661,121.555341210871,121.494471512805,121.493701334288,121.4953205508,121.498532768249,121.564638541706,121.536739553015,121.559393057324,121.538139942001,121.488671071553,121.555845990375,121.482351747521,121.550517942203,121.559968941094,121.496696726214,121.481171437196,121.528801714431,121.477831650654,121.498225706981,121.484122063674,121.520630203822,121.524701870711,121.560528782084,121.528652676866,121.494687044102,121.551065568013,121.474397914293,121.52104717819,121.533403748726,121.501294404301,121.501103930543,121.533671601927,121.531647881162,121.545843844792,121.549018034314,121.494506030188,121.483165821044,121.478398589248,121.523703175925,121.545300415406,121.498544870836,121.524680608547,121.543213074152,121.476301176886,121.473987127207,121.530267546534,121.561402482183,121.507498337799,121.509261939186,121.534930131918,121.51565550459,121.56048215393,121.521014496693,121.528879041694,121.550223610758,121.533122465437,121.485672893099,121.498134185302,121.528352548265,121.510519119633,121.519100587716,121.559298258784,121.476071144427,121.515875003408,121.497324067565,121.544376640597,121.479859804846,121.478668509483,121.539496839072,121.490214516803,121.495974305129,121.549074624242,121.473887978837,121.503169016925,121.516642822805,121.524813767173,121.536916810635,121.505191927671,121.549169761689,121.539823807733,121.545940327481,121.493819964154,121.513937991554,121.523598981335,121.511162857079,121.506620103232,121.474472696787,121.519414479522,121.518772144879,121.486034319976,121.510587545117,121.507848626077,121.53815376669,121.534473266153,121.536199537917,121.555066317953,121.48300656377,121.507861907042,121.504750005664,121.487939123867,121.524683120688,121.545250944333,121.549660264651,121.515115248177,121.537601355358,121.487138930842,121.487708741278,121.494621986352,121.51100823294,121.506569178382,121.511228204485,121.545901513722,121.513391824543,121.528411130979,121.499466920685,121.552396575431,121.542509483252,121.48261130064,121.53244901096,121.563923958209,121.52503644977,121.491753117454,121.507313751459,121.490972633018,121.543209867701,121.489200839286,121.510372638243,121.543777845948,121.506975266459,121.503063097756,121.552742666566,121.496493822971,121.502245444152,121.525458582991,121.540103656358,121.553908034284,121.545242323504,121.502963241369,121.534382133383,121.484368259356,121.515622851935,121.543205374459,121.529324764011,121.485552033909,121.503670400794,121.509084791298,121.564449984848,121.548825884072,121.564475382211,121.49103763487,121.528440260775,121.506590408451,121.531078283658,121.560382599973,121.522618229086,121.493785657031,121.504131685618,121.56122828887,121.521305284315,121.552233651822,121.492879229081,121.53647214109,121.54357092445,121.530284075767,121.515432839607,121.494502511349,121.564196423579,121.527413663304,121.495309583988,121.474264456462,121.476121739881,121.496742624,121.502779009311,121.516105680091,121.535324553816,121.552867564015,121.519061259634,121.524255372031,121.507486454721,121.482672115367,121.483100131023,121.516721944712,121.561186917581,121.495368644815,121.512572179977,121.552253256287,121.550603114789,121.552082388495,121.478116610574,121.50855610041,121.486778470364,121.561198968459,121.528104940535,121.474911826696,121.508812902902,121.477151242889,121.520808721234,121.509664266042,121.485262731094,121.564698961553,121.548520317988,121.545850767427,121.538224533852,121.551772713548,121.559959311858,121.526692903371,121.498883575271,121.483754359364,121.484982947199,121.478816073007,121.518166444311,121.493146177628,121.556824877912,121.540408307643,121.528355192064,121.533266493756,121.524611125852,121.52125486738,121.524174327897,121.55152355424,121.556140863518,121.484718735725,121.484393738707,121.497750917334,121.544501172959,121.543042044793,121.477165621372,121.55020711677,121.523796689448,121.560542727109,121.477584192181,121.525655937544,121.564848147613,121.479863471145,121.558447103774,121.53456452795,121.546822859116,121.476566111867,121.529341170778,121.524749133506,121.539420209174,121.541579149296,121.543648274117,121.47472423727,121.533511954901,121.530024637999,121.535447464416,121.549554265332,121.539034817522,121.563625058176,121.515559603617,121.510362586434,121.473970283551,121.519666281267,121.522043115123,121.489976247466,121.489833971997,121.507956291454,121.518503522438,121.563177276272,121.513086163396,121.56292282093,121.481339403252,121.550870115034,121.48395314959,121.564081577135,121.520479180344,121.531978162833,121.565099930514,121.563366131545,121.497469968824,121.478951940109,121.4878066551,121.527141193798,121.552600991752,121.561809241116,121.558400528992,121.520063932535,121.494621291426,121.513020319336,121.501910555157,121.53126672641,121.479233384353,121.498814212177,121.509632483318,121.482086595594,121.552603275942,121.562783717047,121.505381905749,121.538104013127,121.527787155457,121.551770874902,121.477766092588,121.496022419187,121.52386766242,121.523027482296,121.561963453562,121.487579837357,121.53085009973,121.534004989952,121.529881676725,121.56173522273,121.477360750611,121.495845454963,121.565320793587,121.515122231269,121.477241183493,121.518072604473,121.502265721715,121.537177546155,121.559418202761,121.50239502806,121.562201462995,121.497300202701,121.535022326804,121.555067688156,121.494277585657,121.474436766985,121.55921570236,121.513896583618,121.502422982451,121.546216263273,121.511783533227,121.529006374348,121.532228746278,121.500346083886,121.543774757573,121.556559417032,121.516533045255,121.482693252662,121.506904716937,121.548073640757,121.514014013632,121.509891494595,121.507963876976,121.520437765203,121.507043569549,121.496772631322,121.486921453747,121.545535288441,121.531196654236,121.549828171103,121.563499937105,121.497146112557,121.529822175827,121.550386819165,121.512691890418,121.554129153937,121.507760235716,121.536717070371,121.546937185183,121.496262062211,121.557961381823,121.565026705774,121.508507909253,121.552804084575,121.546558262183,121.51013670466,121.528018316543,121.522239209861,121.523511704094,121.516353058377,121.548609185381,121.486797516517,121.483918243561,121.543387393163,121.558285927155,121.526395420643],\"y\":[25.0070586835347,25.0121482576502,25.0038498628365,24.9628870027666,25.0110368202032,24.9949935390321,25.0098948639372,24.9971093438101,24.9876216824302,24.9786630373686,24.9348959724228,24.9930941813379,24.9697939870061,25.0116614324946,24.9371970340718,24.9754686411264,24.9575404413999,24.9602904534975,24.9721577932031,24.943551278651,24.9605818323504,24.9570635077195,24.9527990336156,24.9485640217219,24.9877757753084,24.9707858958776,24.9944441888194,24.9380463341762,24.9948082321329,24.984199412755,24.9908770084506,24.9970650957123,24.9947747398421,24.9446364018986,24.9643233025962,24.9822111412461,24.9482972516287,24.9540764486134,24.9829799309004,24.9625975061915,24.9599486283398,24.9689190369041,25.013381894155,24.9743458261431,24.9489349220054,24.9936867034697,24.9438768313581,24.9346755358333,24.9366895883555,24.9858290618558,24.9978593940214,24.9641017127301,24.983603531753,24.9851467630134,24.9483016712827,24.956711599438,24.9466707162414,24.9368124766351,24.9675730316466,24.9971795449205,24.9708538799592,24.9382525174361,24.9745234424819,24.9963868085687,24.9738457674107,24.9938752540809,24.9601138476602,24.9856280870984,25.0061821171755,24.9697704997973,24.9893713836927,24.9328436396641,24.9355866667961,24.9732089884383,24.9859154838673,24.9407653394523,25.0127401505021,25.0136849317044,25.008342583011,25.0128285680263,24.9675656165918,24.9332897220076,24.9422856203814,24.9796557129581,24.9321270671504,24.9444066188135,24.9588107975457,24.9990150843913,25.0064211728668,24.9321291635048,24.9833473165435,24.9871284372743,24.9709078196502,24.9965585974719,25.0088489503057,24.938802072686,24.9357394864412,24.9632958460854,24.9838381852884,25.0056201914949,24.9712575001039,24.9482747944162,25.0088859730452,24.9386951046129,25.0051659139294,24.9450488628086,25.0140030095153,24.9746169198454,24.9967057857405,24.9768239339952,24.9816590478066,24.9442821146573,24.9914405919857,24.9697868243887,24.9920497469549,25.0003182508366,24.9823689698026,24.9540145838766,24.9716655871468,24.9424433657278,24.9460930350282,24.9321621075599,24.9951044470995,24.9381413216714,24.989952890821,24.9845418096922,24.9713497806031,25.0093784235421,25.0145779378903,24.9524031196434,24.9350062103266,25.0081611872601,24.9645961553053,24.9424519368806,24.9795304656241,24.9415406027682,24.9401288745801,24.9709539822217,24.9701042431144,24.9779246342823,24.9521969416284,24.9934261963371,24.9718202282814,24.9942146782477,24.9557306170421,24.9790927192513,24.9744180027889,24.9957450834024,24.9697297560591,24.9647672694358,24.9513556241635,24.9962192209167,24.9490277879196,24.9885796263289,25.0080758377221,24.9923098066879,24.9752580533036,25.0123698651947,24.9639671531933,25.006474193976,24.9991772070207,24.9718964442216,24.9952664962135,25.003556381245,24.955764922707,24.9339128004795,24.9401483777982,24.9863846018072,24.9957264003105,24.9546838279735,24.9843582413234,24.9447436289283,24.9328047579623,24.9614834196357,24.9525034203157,24.9351862932981,24.9418842911422,24.9540983675674,24.9873938924939,24.9557081465153,24.960983936636,24.987028751966,25.0113661118635,25.0111361845199,24.9919230952376,24.9519322324496,24.9439139774923,24.9613498397635,24.9854784270977,24.9524175384487,24.9774838696277,25.0051924586141,24.9337320563806,24.9913291831649,24.9587541192724,24.9956926467688,24.9708204133524,25.0000120786306,24.9734506635597,24.9897957038786,24.9919616718381,24.985067125269,24.9370948264546,25.0044110266218,24.9575537528323,24.9654429298803,24.9439676549041,24.994433498215,24.9739048117036,24.9776573776306,24.9838692004649,24.9581191644433,24.9598859292486,24.9751776327836,25.0122266103905,24.9776743371829,25.0021065008066,24.9486524403354,24.9620432413373,24.966716653172,24.9808391387239,25.0033120013404,24.9911231444723,25.0061888251179,25.0052951998831,24.995700503196,24.9644799395326,24.9976161042729,24.985405084478,24.9524336587173,24.9877448261161,24.9502924199248,24.9599849804594,24.9959123442901,24.9864180078886,25.0035701694063,24.9745368454271,24.9570944227429,24.9733317661212,24.9736146344216,24.9348008924763,24.9467527574116,24.9756669657871,25.0114411405546,24.9939353632242,24.9578584068533,24.994743122765,25.0086064579176,24.9747428563129,24.9623119243281,24.9636208454535,25.0143045523001,24.9370488725631,24.9957128222874,25.0060951834041,24.9320749981209,24.9390163753487,24.9680390658577,24.9773930586236,24.9854777574087,24.9982803968323,25.0088227408338,24.9628586975459,25.0086451241829,24.9723231958361,24.9717143760364,24.9743605407924,24.939245555155,24.9503713722857,25.0067043688249,24.9508149619698,24.9997360458752,24.9812175625249,24.9335362713515,24.9405192187774,24.9893989632247,25.0105428775829,24.9489875418455,24.9790821425828,24.9603678239416,24.9510748168739,24.9357776055335,24.981883150261,24.9803144755511,24.9927832718674,24.9753100244608,25.0008044905366,24.9797181375502,24.9702808901296,24.9759042215307,24.9958272390794,24.9702423275785,24.9448102297685,24.9574289377502,24.9417654062649,25.0135478096352,24.9974851194064,24.9569340124719,25.0065838151637,24.9957801288854,24.9425572274768,24.9512407575562,24.9741568669919,24.932508597126,25.0103355249416,25.0021572343702,24.9759975103728,24.941949744065,24.9684487356731,24.9852811206135,24.9446742980789,24.9671288397822,24.9854184034903,24.976781184348,24.944071345993,24.9550376931561,24.9827126996437,25.011612100037,24.9654611667936,24.9982688459685,24.9421989021382,24.996894001276,24.9404353857674,24.9914003204642,24.9529118331392,25.008985211766,25.0084829729508,24.9551072521451,25.0030670774162,24.9525157602244,25.0015849978515,24.9454754342949,24.9962905073478,24.9353066242189,24.9928860217916,24.969850559053,24.9474960577189,25.0126723965502,24.9546538713376,24.9847045814806,24.9408836592938,24.9852126274966,24.9634767306023,24.9777295738846,24.9977184053681,24.9331953869432,24.9901612390219,24.9535737427587,24.9580656237577,24.9791413398419,24.9538013548986,24.9882755963917,25.0132721804746,25.0092081445986,24.9447887953639,24.9373368691988,24.9449512296973,24.9618685065608,24.9888098684987,24.9730476037149,24.9817234025616,25.007753380337,25.0070425820581,24.9907924282586,24.9536003801197,24.9832368214509,24.9395892581707,24.9348568297238,24.9888819609943,25.000031156713,24.99605822381,24.9571083226827,25.003014469972,25.0080335865763,24.9539343447117,24.9584285110504,24.9520836791151,24.9728010966159,24.9503341311035,24.9431630036146,25.0129734164791,24.9495066046057,24.9343044956591,24.9443634062458,25.010085971764,24.9875968137397,24.9983115811737,25.0021610820279,24.9633996643667,24.9896684500062,24.9863104794201,24.9498909829006,24.985164945119,24.9676570243609,24.9508738912962,24.9689347167273,25.0018064970458,24.9973940316607,24.9977655838095,25.010412003858,24.9445623439068,25.0041091820448,24.9480836734751,24.9389089417623,25.002052156587,24.9383291495903,24.9398844155088,24.9351673345662,24.9374435770296,24.9811856914186,24.9500699236124,24.9639011877274,24.9978626071598,24.952904088349],\"z\":[13.3,35.5,1.1,22.2,8.5,13.3,38.5,15.2,24.0,13.0,13.2,6.5,27.5,12.9,8.0,4.9,3.1,10.3,1.1,13.7,8.4,31.3,17.3,14.1,1.5,16.1,34.4,18.2,11.9,5.4,9.7,38.5,32.8,31.0,34.8,9.9,5.9,37.1,26.8,30.4,4.0,5.4,25.3,16.4,26.4,8.0,19.2,30.3,12.9,13.5,13.2,8.1,32.3,38.0,13.0,34.4,34.4,24.2,13.2,16.1,5.6,14.2,3.8,38.2,25.3,15.6,26.8,0.0,18.9,16.6,7.6,12.0,6.6,37.1,25.3,11.6,25.9,29.4,17.5,32.6,24.2,16.3,16.1,0.0,31.3,39.2,0.0,18.4,33.0,13.0,17.7,13.3,11.6,35.9,5.6,16.2,11.6,0.0,35.4,37.7,40.9,17.3,34.9,32.0,13.7,12.7,4.5,33.6,12.7,12.0,39.8,13.5,6.8,18.3,13.3,38.0,17.0,15.1,34.8,13.3,34.5,37.8,32.6,5.3,4.3,4.0,14.0,28.2,6.5,35.3,32.1,15.7,6.4,32.7,17.5,14.0,20.6,25.6,13.2,17.5,12.6,20.4,0.0,33.4,30.0,31.0,17.7,10.4,16.9,16.2,23.0,1.1,4.5,12.0,32.5,17.4,16.1,31.0,0.0,16.6,30.9,35.8,39.2,30.6,3.8,30.9,33.9,15.9,24.2,15.0,17.8,15.2,0.0,39.8,18.2,1.5,15.5,0.0,18.1,11.5,13.9,8.9,40.9,30.6,17.9,27.5,22.2,13.9,36.6,26.9,3.8,18.0,13.3,30.4,35.9,17.4,18.1,8.1,16.9,31.9,34.0,17.2,4.1,37.7,3.5,18.2,3.8,10.3,7.1,17.5,12.8,12.2,6.5,14.8,34.8,41.3,32.5,3.9,1.1,8.0,13.7,17.2,2.6,23.0,17.5,18.9,32.3,40.9,0.0,4.7,8.9,10.0,28.0,4.0,19.2,34.6,17.3,24.2,11.5,3.1,12.5,39.7,26.9,28.6,35.5,37.1,18.1,20.6,15.9,14.4,5.4,36.1,7.8,16.9,34.8,2.0,34.5,16.2,0.0,8.3,10.0,4.0,37.3,40.9,2.0,0.0,0.0,12.7,2.6,6.8,30.4,7.1,30.8,19.1,19.2,5.2,21.7,1.1,34.9,20.9,30.9,5.9,10.4,20.4,6.8,33.2,16.3,16.2,16.1,5.6,28.0,13.8,14.1,40.9,40.9,17.0,29.3,31.5,1.1,0.0,16.2,16.5,15.0,13.5,4.0,35.8,30.9,12.6,0.0,8.5,18.4,3.6,1.1,13.6,16.9,9.9,13.1,13.7,37.8,0.0,16.9,17.3,6.3,18.0,17.1,13.7,16.4,37.1,4.0,31.5,42.7,1.1,18.2,17.5,40.9,2.1,13.6,18.5,32.0,0.0,6.2,21.2,13.0,20.3,30.1,3.6,16.6,16.5,20.0,16.4,18.0,6.4,2.0,30.9,32.6,11.8,31.9,16.0,15.2,13.6,29.1,6.2,17.9,30.9,35.3,0.0,16.1,13.0,13.7,30.7,39.8,25.3,40.1,5.6,30.6,6.3,0.0,10.5,25.3,16.2,35.9,32.0,17.8,4.6,24.2,0.0,15.9,7.1,17.5,40.9,7.1,0.0,33.5,13.6,0.0,28.2,31.5,34.4,13.3,35.9,31.5,11.8,21.7,32.8,13.8,21.7,16.6,20.6,15.1,18.3,11.9,0.0,35.9,12.0],\"type\":\"scatter3d\"}],                        {\"template\":{\"data\":{\"histogram2dcontour\":[{\"type\":\"histogram2dcontour\",\"colorbar\":{\"outlinewidth\":0,\"ticks\":\"\"},\"colorscale\":[[0.0,\"#0d0887\"],[0.1111111111111111,\"#46039f\"],[0.2222222222222222,\"#7201a8\"],[0.3333333333333333,\"#9c179e\"],[0.4444444444444444,\"#bd3786\"],[0.5555555555555556,\"#d8576b\"],[0.6666666666666666,\"#ed7953\"],[0.7777777777777778,\"#fb9f3a\"],[0.8888888888888888,\"#fdca26\"],[1.0,\"#f0f921\"]]}],\"choropleth\":[{\"type\":\"choropleth\",\"colorbar\":{\"outlinewidth\":0,\"ticks\":\"\"}}],\"histogram2d\":[{\"type\":\"histogram2d\",\"colorbar\":{\"outlinewidth\":0,\"ticks\":\"\"},\"colorscale\":[[0.0,\"#0d0887\"],[0.1111111111111111,\"#46039f\"],[0.2222222222222222,\"#7201a8\"],[0.3333333333333333,\"#9c179e\"],[0.4444444444444444,\"#bd3786\"],[0.5555555555555556,\"#d8576b\"],[0.6666666666666666,\"#ed7953\"],[0.7777777777777778,\"#fb9f3a\"],[0.8888888888888888,\"#fdca26\"],[1.0,\"#f0f921\"]]}],\"heatmap\":[{\"type\":\"heatmap\",\"colorbar\":{\"outlinewidth\":0,\"ticks\":\"\"},\"colorscale\":[[0.0,\"#0d0887\"],[0.1111111111111111,\"#46039f\"],[0.2222222222222222,\"#7201a8\"],[0.3333333333333333,\"#9c179e\"],[0.4444444444444444,\"#bd3786\"],[0.5555555555555556,\"#d8576b\"],[0.6666666666666666,\"#ed7953\"],[0.7777777777777778,\"#fb9f3a\"],[0.8888888888888888,\"#fdca26\"],[1.0,\"#f0f921\"]]}],\"heatmapgl\":[{\"type\":\"heatmapgl\",\"colorbar\":{\"outlinewidth\":0,\"ticks\":\"\"},\"colorscale\":[[0.0,\"#0d0887\"],[0.1111111111111111,\"#46039f\"],[0.2222222222222222,\"#7201a8\"],[0.3333333333333333,\"#9c179e\"],[0.4444444444444444,\"#bd3786\"],[0.5555555555555556,\"#d8576b\"],[0.6666666666666666,\"#ed7953\"],[0.7777777777777778,\"#fb9f3a\"],[0.8888888888888888,\"#fdca26\"],[1.0,\"#f0f921\"]]}],\"contourcarpet\":[{\"type\":\"contourcarpet\",\"colorbar\":{\"outlinewidth\":0,\"ticks\":\"\"}}],\"contour\":[{\"type\":\"contour\",\"colorbar\":{\"outlinewidth\":0,\"ticks\":\"\"},\"colorscale\":[[0.0,\"#0d0887\"],[0.1111111111111111,\"#46039f\"],[0.2222222222222222,\"#7201a8\"],[0.3333333333333333,\"#9c179e\"],[0.4444444444444444,\"#bd3786\"],[0.5555555555555556,\"#d8576b\"],[0.6666666666666666,\"#ed7953\"],[0.7777777777777778,\"#fb9f3a\"],[0.8888888888888888,\"#fdca26\"],[1.0,\"#f0f921\"]]}],\"surface\":[{\"type\":\"surface\",\"colorbar\":{\"outlinewidth\":0,\"ticks\":\"\"},\"colorscale\":[[0.0,\"#0d0887\"],[0.1111111111111111,\"#46039f\"],[0.2222222222222222,\"#7201a8\"],[0.3333333333333333,\"#9c179e\"],[0.4444444444444444,\"#bd3786\"],[0.5555555555555556,\"#d8576b\"],[0.6666666666666666,\"#ed7953\"],[0.7777777777777778,\"#fb9f3a\"],[0.8888888888888888,\"#fdca26\"],[1.0,\"#f0f921\"]]}],\"mesh3d\":[{\"type\":\"mesh3d\",\"colorbar\":{\"outlinewidth\":0,\"ticks\":\"\"}}],\"scatter\":[{\"fillpattern\":{\"fillmode\":\"overlay\",\"size\":10,\"solidity\":0.2},\"type\":\"scatter\"}],\"parcoords\":[{\"type\":\"parcoords\",\"line\":{\"colorbar\":{\"outlinewidth\":0,\"ticks\":\"\"}}}],\"scatterpolargl\":[{\"type\":\"scatterpolargl\",\"marker\":{\"colorbar\":{\"outlinewidth\":0,\"ticks\":\"\"}}}],\"bar\":[{\"error_x\":{\"color\":\"#2a3f5f\"},\"error_y\":{\"color\":\"#2a3f5f\"},\"marker\":{\"line\":{\"color\":\"#E5ECF6\",\"width\":0.5},\"pattern\":{\"fillmode\":\"overlay\",\"size\":10,\"solidity\":0.2}},\"type\":\"bar\"}],\"scattergeo\":[{\"type\":\"scattergeo\",\"marker\":{\"colorbar\":{\"outlinewidth\":0,\"ticks\":\"\"}}}],\"scatterpolar\":[{\"type\":\"scatterpolar\",\"marker\":{\"colorbar\":{\"outlinewidth\":0,\"ticks\":\"\"}}}],\"histogram\":[{\"marker\":{\"pattern\":{\"fillmode\":\"overlay\",\"size\":10,\"solidity\":0.2}},\"type\":\"histogram\"}],\"scattergl\":[{\"type\":\"scattergl\",\"marker\":{\"colorbar\":{\"outlinewidth\":0,\"ticks\":\"\"}}}],\"scatter3d\":[{\"type\":\"scatter3d\",\"line\":{\"colorbar\":{\"outlinewidth\":0,\"ticks\":\"\"}},\"marker\":{\"colorbar\":{\"outlinewidth\":0,\"ticks\":\"\"}}}],\"scattermapbox\":[{\"type\":\"scattermapbox\",\"marker\":{\"colorbar\":{\"outlinewidth\":0,\"ticks\":\"\"}}}],\"scatterternary\":[{\"type\":\"scatterternary\",\"marker\":{\"colorbar\":{\"outlinewidth\":0,\"ticks\":\"\"}}}],\"scattercarpet\":[{\"type\":\"scattercarpet\",\"marker\":{\"colorbar\":{\"outlinewidth\":0,\"ticks\":\"\"}}}],\"carpet\":[{\"aaxis\":{\"endlinecolor\":\"#2a3f5f\",\"gridcolor\":\"white\",\"linecolor\":\"white\",\"minorgridcolor\":\"white\",\"startlinecolor\":\"#2a3f5f\"},\"baxis\":{\"endlinecolor\":\"#2a3f5f\",\"gridcolor\":\"white\",\"linecolor\":\"white\",\"minorgridcolor\":\"white\",\"startlinecolor\":\"#2a3f5f\"},\"type\":\"carpet\"}],\"table\":[{\"cells\":{\"fill\":{\"color\":\"#EBF0F8\"},\"line\":{\"color\":\"white\"}},\"header\":{\"fill\":{\"color\":\"#C8D4E3\"},\"line\":{\"color\":\"white\"}},\"type\":\"table\"}],\"barpolar\":[{\"marker\":{\"line\":{\"color\":\"#E5ECF6\",\"width\":0.5},\"pattern\":{\"fillmode\":\"overlay\",\"size\":10,\"solidity\":0.2}},\"type\":\"barpolar\"}],\"pie\":[{\"automargin\":true,\"type\":\"pie\"}]},\"layout\":{\"autotypenumbers\":\"strict\",\"colorway\":[\"#636efa\",\"#EF553B\",\"#00cc96\",\"#ab63fa\",\"#FFA15A\",\"#19d3f3\",\"#FF6692\",\"#B6E880\",\"#FF97FF\",\"#FECB52\"],\"font\":{\"color\":\"#2a3f5f\"},\"hovermode\":\"closest\",\"hoverlabel\":{\"align\":\"left\"},\"paper_bgcolor\":\"white\",\"plot_bgcolor\":\"#E5ECF6\",\"polar\":{\"bgcolor\":\"#E5ECF6\",\"angularaxis\":{\"gridcolor\":\"white\",\"linecolor\":\"white\",\"ticks\":\"\"},\"radialaxis\":{\"gridcolor\":\"white\",\"linecolor\":\"white\",\"ticks\":\"\"}},\"ternary\":{\"bgcolor\":\"#E5ECF6\",\"aaxis\":{\"gridcolor\":\"white\",\"linecolor\":\"white\",\"ticks\":\"\"},\"baxis\":{\"gridcolor\":\"white\",\"linecolor\":\"white\",\"ticks\":\"\"},\"caxis\":{\"gridcolor\":\"white\",\"linecolor\":\"white\",\"ticks\":\"\"}},\"coloraxis\":{\"colorbar\":{\"outlinewidth\":0,\"ticks\":\"\"}},\"colorscale\":{\"sequential\":[[0.0,\"#0d0887\"],[0.1111111111111111,\"#46039f\"],[0.2222222222222222,\"#7201a8\"],[0.3333333333333333,\"#9c179e\"],[0.4444444444444444,\"#bd3786\"],[0.5555555555555556,\"#d8576b\"],[0.6666666666666666,\"#ed7953\"],[0.7777777777777778,\"#fb9f3a\"],[0.8888888888888888,\"#fdca26\"],[1.0,\"#f0f921\"]],\"sequentialminus\":[[0.0,\"#0d0887\"],[0.1111111111111111,\"#46039f\"],[0.2222222222222222,\"#7201a8\"],[0.3333333333333333,\"#9c179e\"],[0.4444444444444444,\"#bd3786\"],[0.5555555555555556,\"#d8576b\"],[0.6666666666666666,\"#ed7953\"],[0.7777777777777778,\"#fb9f3a\"],[0.8888888888888888,\"#fdca26\"],[1.0,\"#f0f921\"]],\"diverging\":[[0,\"#8e0152\"],[0.1,\"#c51b7d\"],[0.2,\"#de77ae\"],[0.3,\"#f1b6da\"],[0.4,\"#fde0ef\"],[0.5,\"#f7f7f7\"],[0.6,\"#e6f5d0\"],[0.7,\"#b8e186\"],[0.8,\"#7fbc41\"],[0.9,\"#4d9221\"],[1,\"#276419\"]]},\"xaxis\":{\"gridcolor\":\"white\",\"linecolor\":\"white\",\"ticks\":\"\",\"title\":{\"standoff\":15},\"zerolinecolor\":\"white\",\"automargin\":true,\"zerolinewidth\":2},\"yaxis\":{\"gridcolor\":\"white\",\"linecolor\":\"white\",\"ticks\":\"\",\"title\":{\"standoff\":15},\"zerolinecolor\":\"white\",\"automargin\":true,\"zerolinewidth\":2},\"scene\":{\"xaxis\":{\"backgroundcolor\":\"#E5ECF6\",\"gridcolor\":\"white\",\"linecolor\":\"white\",\"showbackground\":true,\"ticks\":\"\",\"zerolinecolor\":\"white\",\"gridwidth\":2},\"yaxis\":{\"backgroundcolor\":\"#E5ECF6\",\"gridcolor\":\"white\",\"linecolor\":\"white\",\"showbackground\":true,\"ticks\":\"\",\"zerolinecolor\":\"white\",\"gridwidth\":2},\"zaxis\":{\"backgroundcolor\":\"#E5ECF6\",\"gridcolor\":\"white\",\"linecolor\":\"white\",\"showbackground\":true,\"ticks\":\"\",\"zerolinecolor\":\"white\",\"gridwidth\":2}},\"shapedefaults\":{\"line\":{\"color\":\"#2a3f5f\"}},\"annotationdefaults\":{\"arrowcolor\":\"#2a3f5f\",\"arrowhead\":0,\"arrowwidth\":1},\"geo\":{\"bgcolor\":\"white\",\"landcolor\":\"#E5ECF6\",\"subunitcolor\":\"white\",\"showland\":true,\"showlakes\":true,\"lakecolor\":\"white\"},\"title\":{\"x\":0.05},\"mapbox\":{\"style\":\"light\"}}},\"scene\":{\"domain\":{\"x\":[0.0,1.0],\"y\":[0.0,1.0]},\"xaxis\":{\"title\":{\"text\":\"x\"}},\"yaxis\":{\"title\":{\"text\":\"y\"}},\"zaxis\":{\"title\":{\"text\":\"z\"}}},\"coloraxis\":{\"colorbar\":{\"title\":{\"text\":\"color\"}},\"colorscale\":[[0.0,\"#0d0887\"],[0.1111111111111111,\"#46039f\"],[0.2222222222222222,\"#7201a8\"],[0.3333333333333333,\"#9c179e\"],[0.4444444444444444,\"#bd3786\"],[0.5555555555555556,\"#d8576b\"],[0.6666666666666666,\"#ed7953\"],[0.7777777777777778,\"#fb9f3a\"],[0.8888888888888888,\"#fdca26\"],[1.0,\"#f0f921\"]]},\"legend\":{\"tracegroupgap\":0},\"margin\":{\"t\":60}},                        {\"responsive\": true}                    ).then(function(){\n",
       "                            \n",
       "var gd = document.getElementById('deaa9aa0-6c2f-46da-993e-8e45f2b26ca7');\n",
       "var x = new MutationObserver(function (mutations, observer) {{\n",
       "        var display = window.getComputedStyle(gd).display;\n",
       "        if (!display || display === 'none') {{\n",
       "            console.log([gd, 'removed!']);\n",
       "            Plotly.purge(gd);\n",
       "            observer.disconnect();\n",
       "        }}\n",
       "}});\n",
       "\n",
       "// Listen for the removal of the full notebook cells\n",
       "var notebookContainer = gd.closest('#notebook-container');\n",
       "if (notebookContainer) {{\n",
       "    x.observe(notebookContainer, {childList: true});\n",
       "}}\n",
       "\n",
       "// Listen for the clearing of the current output cell\n",
       "var outputEl = gd.closest('.output');\n",
       "if (outputEl) {{\n",
       "    x.observe(outputEl, {childList: true});\n",
       "}}\n",
       "\n",
       "                        })                };                });            </script>        </div>"
      ]
     },
     "metadata": {},
     "output_type": "display_data"
    }
   ],
   "source": [
    "px.scatter_3d(x=df.Longitude,y=df.Latitude,z=df['House age'],color=df['Number of convenience stores'])\n"
   ]
  },
  {
   "cell_type": "code",
   "execution_count": 218,
   "id": "82ef02b9",
   "metadata": {},
   "outputs": [
    {
     "data": {
      "image/png": "[encoded data removed]",
      "text/plain": [
       "<Figure size 1000x800 with 1 Axes>"
      ]
     },
     "metadata": {},
     "output_type": "display_data"
    }
   ],
   "source": [
    "plt.figure(figsize=(10, 8))\n",
    "plt.scatter(df['Longitude'], df['Latitude'], c='indigo', alpha=0.5)\n",
    "plt.xlabel('Longitude')\n",
    "plt.ylabel('Latitude')\n",
    "plt.title('Property Locations Map')\n",
    "plt.grid(True)\n",
    "plt.show()"
   ]
  },
  {
   "cell_type": "markdown",
   "id": "8cd7abe3",
   "metadata": {},
   "source": [
    "# Feature Engineering"
   ]
  },
  {
   "cell_type": "code",
   "execution_count": 219,
   "id": "3b4623f5",
   "metadata": {},
   "outputs": [],
   "source": [
    "# Calculate the distance to the nearest MRT station\n",
    "df['Distance to MRT station'] = np.sqrt((df['Latitude'] - 25.0) ** 2 + (df['Longitude'] - 121.5) ** 2)"
   ]
  },
  {
   "cell_type": "code",
   "execution_count": 220,
   "id": "ab7b4396",
   "metadata": {},
   "outputs": [
    {
     "data": {
      "text/plain": [
       "0      0.062097\n",
       "1      0.048535\n",
       "2      0.028597\n",
       "3      0.041170\n",
       "4      0.022890\n",
       "         ...   \n",
       "409    0.022984\n",
       "410    0.052456\n",
       "411    0.056441\n",
       "412    0.058325\n",
       "413    0.053988\n",
       "Name: Distance to MRT station, Length: 414, dtype: float64"
      ]
     },
     "execution_count": 220,
     "metadata": {},
     "output_type": "execute_result"
    }
   ],
   "source": [
    "df['Distance to MRT station']"
   ]
  },
  {
   "cell_type": "code",
   "execution_count": 221,
   "id": "ae13f1b5",
   "metadata": {},
   "outputs": [],
   "source": [
    "# Create a new feature that represents the distance to the nearest MRT station\n",
    "df['Distance to MRT station (km)'] = df['Distance to MRT station'] / 1000"
   ]
  },
  {
   "cell_type": "code",
   "execution_count": 222,
   "id": "e278973c",
   "metadata": {},
   "outputs": [
    {
     "data": {
      "text/plain": [
       "0      0.000062\n",
       "1      0.000049\n",
       "2      0.000029\n",
       "3      0.000041\n",
       "4      0.000023\n",
       "         ...   \n",
       "409    0.000023\n",
       "410    0.000052\n",
       "411    0.000056\n",
       "412    0.000058\n",
       "413    0.000054\n",
       "Name: Distance to MRT station (km), Length: 414, dtype: float64"
      ]
     },
     "execution_count": 222,
     "metadata": {},
     "output_type": "execute_result"
    }
   ],
   "source": [
    "df['Distance to MRT station (km)']"
   ]
  },
  {
   "cell_type": "markdown",
   "id": "75971cdb",
   "metadata": {},
   "source": [
    "There are no missing values in the dataset, which has 7 columns and 414 entries. Below is a quick synopsis of the columns:\n",
    "\n",
    "Date of transaction: The day the house was sold (object type, meaning that important data like year, month, etc., may need to be extracted or converted).\n",
    "\n",
    "House age: The house's age expressed in floating-point years.\n",
    "\n",
    "The distance in meters (float) between the closest mass rapid transit station and the nearest MRT station.\n",
    "\n",
    "Convenience store count: The total number of convenience stores accessible on foot inside the living circle (integer).\n",
    "\n",
    "Latitude: The geographic coordinate (float) indicating a location's north-south orientation.\n",
    "\n",
    "Longitude: The east-west position specified by a geographic coordinate (float).\n",
    "\n",
    "Price of the house per unit area: This is the price per unit area (float), and it is probably the variable we want to predict.\n",
    "\n",
    "Thus, we are resolving a regression issue in this case. To determine which regression model will work best for our situation, we will preprocess the data and choose models in the following stages."
   ]
  },
  {
   "cell_type": "markdown",
   "id": "701cdc2b",
   "metadata": {},
   "source": [
    "# Data Preprocessing "
   ]
  },
  {
   "cell_type": "code",
   "execution_count": 223,
   "id": "4b42f153",
   "metadata": {},
   "outputs": [],
   "source": [
    "from sklearn.model_selection import train_test_split\n",
    "from sklearn.preprocessing import StandardScaler\n",
    "import datetime"
   ]
  },
  {
   "cell_type": "markdown",
   "id": "08841525",
   "metadata": {},
   "source": [
    "convert \"Transaction date\" to datetime and extract year and month"
   ]
  },
  {
   "cell_type": "code",
   "execution_count": 224,
   "id": "edd852e5",
   "metadata": {},
   "outputs": [],
   "source": [
    "df['Transaction date'] = pd.to_datetime(df['Transaction date'])\n",
    "df['Transaction year'] = df['Transaction date'].dt.year\n",
    "df['Transaction month'] = df['Transaction date'].dt.month"
   ]
  },
  {
   "cell_type": "markdown",
   "id": "b88b9437",
   "metadata": {},
   "source": [
    "droping the original \"Transaction date\" as we've extracted relevant features"
   ]
  },
  {
   "cell_type": "code",
   "execution_count": 225,
   "id": "bbe62b15",
   "metadata": {},
   "outputs": [],
   "source": [
    "df = df.drop(columns=['Transaction date'])"
   ]
  },
  {
   "cell_type": "markdown",
   "id": "a676af65",
   "metadata": {},
   "source": [
    "defining features and target variable"
   ]
  },
  {
   "cell_type": "code",
   "execution_count": 226,
   "id": "fbff07e7",
   "metadata": {},
   "outputs": [],
   "source": [
    "X = df.drop('House price of unit area', axis=1)\n",
    "y = df['House price of unit area']"
   ]
  },
  {
   "cell_type": "markdown",
   "id": "5a296ed9",
   "metadata": {},
   "source": [
    "spliting the data into training and testing"
   ]
  },
  {
   "cell_type": "code",
   "execution_count": 227,
   "id": "ff8e2418",
   "metadata": {},
   "outputs": [],
   "source": [
    "X_train, X_test, y_train, y_test = train_test_split(X, y, test_size=0.2, random_state=41)"
   ]
  },
  {
   "cell_type": "markdown",
   "id": "4b97b283",
   "metadata": {},
   "source": [
    "scaling the features"
   ]
  },
  {
   "cell_type": "code",
   "execution_count": 228,
   "id": "0ccc1bce",
   "metadata": {},
   "outputs": [],
   "source": [
    "scaler = StandardScaler()\n",
    "X_train_scaled = scaler.fit_transform(X_train)\n",
    "X_test_scaled = scaler.transform(X_test)"
   ]
  },
  {
   "cell_type": "code",
   "execution_count": 229,
   "id": "36f9ef49",
   "metadata": {},
   "outputs": [
    {
     "data": {
      "text/plain": [
       "(331, 9)"
      ]
     },
     "execution_count": 229,
     "metadata": {},
     "output_type": "execute_result"
    }
   ],
   "source": [
    "X_train_scaled.shape"
   ]
  },
  {
   "cell_type": "code",
   "execution_count": 230,
   "id": "ea035bb5",
   "metadata": {},
   "outputs": [
    {
     "data": {
      "text/plain": [
       "(83, 9)"
      ]
     },
     "execution_count": 230,
     "metadata": {},
     "output_type": "execute_result"
    }
   ],
   "source": [
    "X_test_scaled.shape"
   ]
  },
  {
   "cell_type": "markdown",
   "id": "1fc1f684",
   "metadata": {},
   "source": [
    "# Model Training and Comparison"
   ]
  },
  {
   "cell_type": "markdown",
   "id": "0193fe9e",
   "metadata": {},
   "source": [
    "We will now train several models and evaluate how well they perform. First, let's look at a few popular models for regression tasks:\n",
    "\n",
    "For regression problems, a good baseline model is linear regression.\n",
    "\n",
    "Decision Tree Regressor: To assess the performance of a basic tree-based model.\n",
    "    \n",
    "The Random Forest Regressor is an ensemble technique that enhances the performance of decision trees.\n",
    "\n",
    "Another effective ensemble regression technique is the gradient boosting regression.\n",
    "\n",
    "Each model will be trained using the training set, and its performance on the test set will be assessed using metrics such as Mean Absolute Error (MAE) and R-squared (R²). These measures will assist us in determining how effectively the model explains the variance in the target variable as well as the average error of the predictions.\n",
    "\n",
    "First, let's train these models and assess how well they perform:"
   ]
  },
  {
   "cell_type": "code",
   "execution_count": 231,
   "id": "5804c9a0",
   "metadata": {},
   "outputs": [
    {
     "name": "stdout",
     "output_type": "stream",
     "text": [
      "Requirement already satisfied: linear-regression in c:\\users\\hp\\anaconda3\\lib\\site-packages (0.1)\n",
      "Requirement already satisfied: numpy in c:\\users\\hp\\anaconda3\\lib\\site-packages (from linear-regression) (1.24.3)\n",
      "Requirement already satisfied: pandas in c:\\users\\hp\\anaconda3\\lib\\site-packages (from linear-regression) (1.5.3)\n",
      "Requirement already satisfied: python-dateutil>=2.8.1 in c:\\users\\hp\\anaconda3\\lib\\site-packages (from pandas->linear-regression) (2.8.2)\n",
      "Requirement already satisfied: pytz>=2020.1 in c:\\users\\hp\\anaconda3\\lib\\site-packages (from pandas->linear-regression) (2022.7)\n",
      "Requirement already satisfied: six>=1.5 in c:\\users\\hp\\anaconda3\\lib\\site-packages (from python-dateutil>=2.8.1->pandas->linear-regression) (1.16.0)\n",
      "Note: you may need to restart the kernel to use updated packages.\n"
     ]
    }
   ],
   "source": [
    "pip install linear-regression"
   ]
  },
  {
   "cell_type": "code",
   "execution_count": 232,
   "id": "cb9df2e1",
   "metadata": {},
   "outputs": [],
   "source": [
    "from sklearn.linear_model import LinearRegression"
   ]
  },
  {
   "cell_type": "code",
   "execution_count": 233,
   "id": "f267db06",
   "metadata": {},
   "outputs": [],
   "source": [
    "from sklearn.tree import DecisionTreeRegressor"
   ]
  },
  {
   "cell_type": "code",
   "execution_count": 234,
   "id": "56ae0ec7",
   "metadata": {},
   "outputs": [],
   "source": [
    "from sklearn.ensemble import RandomForestRegressor, GradientBoostingRegressor"
   ]
  },
  {
   "cell_type": "code",
   "execution_count": 235,
   "id": "308ab86d",
   "metadata": {},
   "outputs": [],
   "source": [
    "from sklearn.metrics import mean_absolute_error, r2_score"
   ]
  },
  {
   "cell_type": "markdown",
   "id": "bce657d2",
   "metadata": {},
   "source": [
    "# LinearRegression"
   ]
  },
  {
   "cell_type": "code",
   "execution_count": 236,
   "id": "a8e958c0",
   "metadata": {},
   "outputs": [],
   "source": [
    "lr = LinearRegression()"
   ]
  },
  {
   "cell_type": "code",
   "execution_count": 237,
   "id": "34213ae4",
   "metadata": {},
   "outputs": [
    {
     "data": {
      "text/html": [
       "<style>#sk-container-id-25 {color: black;}#sk-container-id-25 pre{padding: 0;}#sk-container-id-25 div.sk-toggleable {background-color: white;}#sk-container-id-25 label.sk-toggleable__label {cursor: pointer;display: block;width: 100%;margin-bottom: 0;padding: 0.3em;box-sizing: border-box;text-align: center;}#sk-container-id-25 label.sk-toggleable__label-arrow:before {content: \"▸\";float: left;margin-right: 0.25em;color: #696969;}#sk-container-id-25 label.sk-toggleable__label-arrow:hover:before {color: black;}#sk-container-id-25 div.sk-estimator:hover label.sk-toggleable__label-arrow:before {color: black;}#sk-container-id-25 div.sk-toggleable__content {max-height: 0;max-width: 0;overflow: hidden;text-align: left;background-color: #f0f8ff;}#sk-container-id-25 div.sk-toggleable__content pre {margin: 0.2em;color: black;border-radius: 0.25em;background-color: #f0f8ff;}#sk-container-id-25 input.sk-toggleable__control:checked~div.sk-toggleable__content {max-height: 200px;max-width: 100%;overflow: auto;}#sk-container-id-25 input.sk-toggleable__control:checked~label.sk-toggleable__label-arrow:before {content: \"▾\";}#sk-container-id-25 div.sk-estimator input.sk-toggleable__control:checked~label.sk-toggleable__label {background-color: #d4ebff;}#sk-container-id-25 div.sk-label input.sk-toggleable__control:checked~label.sk-toggleable__label {background-color: #d4ebff;}#sk-container-id-25 input.sk-hidden--visually {border: 0;clip: rect(1px 1px 1px 1px);clip: rect(1px, 1px, 1px, 1px);height: 1px;margin: -1px;overflow: hidden;padding: 0;position: absolute;width: 1px;}#sk-container-id-25 div.sk-estimator {font-family: monospace;background-color: #f0f8ff;border: 1px dotted black;border-radius: 0.25em;box-sizing: border-box;margin-bottom: 0.5em;}#sk-container-id-25 div.sk-estimator:hover {background-color: #d4ebff;}#sk-container-id-25 div.sk-parallel-item::after {content: \"\";width: 100%;border-bottom: 1px solid gray;flex-grow: 1;}#sk-container-id-25 div.sk-label:hover label.sk-toggleable__label {background-color: #d4ebff;}#sk-container-id-25 div.sk-serial::before {content: \"\";position: absolute;border-left: 1px solid gray;box-sizing: border-box;top: 0;bottom: 0;left: 50%;z-index: 0;}#sk-container-id-25 div.sk-serial {display: flex;flex-direction: column;align-items: center;background-color: white;padding-right: 0.2em;padding-left: 0.2em;position: relative;}#sk-container-id-25 div.sk-item {position: relative;z-index: 1;}#sk-container-id-25 div.sk-parallel {display: flex;align-items: stretch;justify-content: center;background-color: white;position: relative;}#sk-container-id-25 div.sk-item::before, #sk-container-id-25 div.sk-parallel-item::before {content: \"\";position: absolute;border-left: 1px solid gray;box-sizing: border-box;top: 0;bottom: 0;left: 50%;z-index: -1;}#sk-container-id-25 div.sk-parallel-item {display: flex;flex-direction: column;z-index: 1;position: relative;background-color: white;}#sk-container-id-25 div.sk-parallel-item:first-child::after {align-self: flex-end;width: 50%;}#sk-container-id-25 div.sk-parallel-item:last-child::after {align-self: flex-start;width: 50%;}#sk-container-id-25 div.sk-parallel-item:only-child::after {width: 0;}#sk-container-id-25 div.sk-dashed-wrapped {border: 1px dashed gray;margin: 0 0.4em 0.5em 0.4em;box-sizing: border-box;padding-bottom: 0.4em;background-color: white;}#sk-container-id-25 div.sk-label label {font-family: monospace;font-weight: bold;display: inline-block;line-height: 1.2em;}#sk-container-id-25 div.sk-label-container {text-align: center;}#sk-container-id-25 div.sk-container {/* jupyter's `normalize.less` sets `[hidden] { display: none; }` but bootstrap.min.css set `[hidden] { display: none !important; }` so we also need the `!important` here to be able to override the default hidden behavior on the sphinx rendered scikit-learn.org. See: https://github.com/scikit-learn/scikit-learn/issues/21755 */display: inline-block !important;position: relative;}#sk-container-id-25 div.sk-text-repr-fallback {display: none;}</style><div id=\"sk-container-id-25\" class=\"sk-top-container\"><div class=\"sk-text-repr-fallback\"><pre>LinearRegression()</pre><b>In a Jupyter environment, please rerun this cell to show the HTML representation or trust the notebook. <br />On GitHub, the HTML representation is unable to render, please try loading this page with nbviewer.org.</b></div><div class=\"sk-container\" hidden><div class=\"sk-item\"><div class=\"sk-estimator sk-toggleable\"><input class=\"sk-toggleable__control sk-hidden--visually\" id=\"sk-estimator-id-25\" type=\"checkbox\" checked><label for=\"sk-estimator-id-25\" class=\"sk-toggleable__label sk-toggleable__label-arrow\">LinearRegression</label><div class=\"sk-toggleable__content\"><pre>LinearRegression()</pre></div></div></div></div></div>"
      ],
      "text/plain": [
       "LinearRegression()"
      ]
     },
     "execution_count": 237,
     "metadata": {},
     "output_type": "execute_result"
    }
   ],
   "source": [
    "lr"
   ]
  },
  {
   "cell_type": "code",
   "execution_count": 238,
   "id": "ebcef85b",
   "metadata": {},
   "outputs": [
    {
     "data": {
      "text/html": [
       "<style>#sk-container-id-26 {color: black;}#sk-container-id-26 pre{padding: 0;}#sk-container-id-26 div.sk-toggleable {background-color: white;}#sk-container-id-26 label.sk-toggleable__label {cursor: pointer;display: block;width: 100%;margin-bottom: 0;padding: 0.3em;box-sizing: border-box;text-align: center;}#sk-container-id-26 label.sk-toggleable__label-arrow:before {content: \"▸\";float: left;margin-right: 0.25em;color: #696969;}#sk-container-id-26 label.sk-toggleable__label-arrow:hover:before {color: black;}#sk-container-id-26 div.sk-estimator:hover label.sk-toggleable__label-arrow:before {color: black;}#sk-container-id-26 div.sk-toggleable__content {max-height: 0;max-width: 0;overflow: hidden;text-align: left;background-color: #f0f8ff;}#sk-container-id-26 div.sk-toggleable__content pre {margin: 0.2em;color: black;border-radius: 0.25em;background-color: #f0f8ff;}#sk-container-id-26 input.sk-toggleable__control:checked~div.sk-toggleable__content {max-height: 200px;max-width: 100%;overflow: auto;}#sk-container-id-26 input.sk-toggleable__control:checked~label.sk-toggleable__label-arrow:before {content: \"▾\";}#sk-container-id-26 div.sk-estimator input.sk-toggleable__control:checked~label.sk-toggleable__label {background-color: #d4ebff;}#sk-container-id-26 div.sk-label input.sk-toggleable__control:checked~label.sk-toggleable__label {background-color: #d4ebff;}#sk-container-id-26 input.sk-hidden--visually {border: 0;clip: rect(1px 1px 1px 1px);clip: rect(1px, 1px, 1px, 1px);height: 1px;margin: -1px;overflow: hidden;padding: 0;position: absolute;width: 1px;}#sk-container-id-26 div.sk-estimator {font-family: monospace;background-color: #f0f8ff;border: 1px dotted black;border-radius: 0.25em;box-sizing: border-box;margin-bottom: 0.5em;}#sk-container-id-26 div.sk-estimator:hover {background-color: #d4ebff;}#sk-container-id-26 div.sk-parallel-item::after {content: \"\";width: 100%;border-bottom: 1px solid gray;flex-grow: 1;}#sk-container-id-26 div.sk-label:hover label.sk-toggleable__label {background-color: #d4ebff;}#sk-container-id-26 div.sk-serial::before {content: \"\";position: absolute;border-left: 1px solid gray;box-sizing: border-box;top: 0;bottom: 0;left: 50%;z-index: 0;}#sk-container-id-26 div.sk-serial {display: flex;flex-direction: column;align-items: center;background-color: white;padding-right: 0.2em;padding-left: 0.2em;position: relative;}#sk-container-id-26 div.sk-item {position: relative;z-index: 1;}#sk-container-id-26 div.sk-parallel {display: flex;align-items: stretch;justify-content: center;background-color: white;position: relative;}#sk-container-id-26 div.sk-item::before, #sk-container-id-26 div.sk-parallel-item::before {content: \"\";position: absolute;border-left: 1px solid gray;box-sizing: border-box;top: 0;bottom: 0;left: 50%;z-index: -1;}#sk-container-id-26 div.sk-parallel-item {display: flex;flex-direction: column;z-index: 1;position: relative;background-color: white;}#sk-container-id-26 div.sk-parallel-item:first-child::after {align-self: flex-end;width: 50%;}#sk-container-id-26 div.sk-parallel-item:last-child::after {align-self: flex-start;width: 50%;}#sk-container-id-26 div.sk-parallel-item:only-child::after {width: 0;}#sk-container-id-26 div.sk-dashed-wrapped {border: 1px dashed gray;margin: 0 0.4em 0.5em 0.4em;box-sizing: border-box;padding-bottom: 0.4em;background-color: white;}#sk-container-id-26 div.sk-label label {font-family: monospace;font-weight: bold;display: inline-block;line-height: 1.2em;}#sk-container-id-26 div.sk-label-container {text-align: center;}#sk-container-id-26 div.sk-container {/* jupyter's `normalize.less` sets `[hidden] { display: none; }` but bootstrap.min.css set `[hidden] { display: none !important; }` so we also need the `!important` here to be able to override the default hidden behavior on the sphinx rendered scikit-learn.org. See: https://github.com/scikit-learn/scikit-learn/issues/21755 */display: inline-block !important;position: relative;}#sk-container-id-26 div.sk-text-repr-fallback {display: none;}</style><div id=\"sk-container-id-26\" class=\"sk-top-container\"><div class=\"sk-text-repr-fallback\"><pre>LinearRegression()</pre><b>In a Jupyter environment, please rerun this cell to show the HTML representation or trust the notebook. <br />On GitHub, the HTML representation is unable to render, please try loading this page with nbviewer.org.</b></div><div class=\"sk-container\" hidden><div class=\"sk-item\"><div class=\"sk-estimator sk-toggleable\"><input class=\"sk-toggleable__control sk-hidden--visually\" id=\"sk-estimator-id-26\" type=\"checkbox\" checked><label for=\"sk-estimator-id-26\" class=\"sk-toggleable__label sk-toggleable__label-arrow\">LinearRegression</label><div class=\"sk-toggleable__content\"><pre>LinearRegression()</pre></div></div></div></div></div>"
      ],
      "text/plain": [
       "LinearRegression()"
      ]
     },
     "execution_count": 238,
     "metadata": {},
     "output_type": "execute_result"
    }
   ],
   "source": [
    "lr.fit(X_train_scaled ,y_train)"
   ]
  },
  {
   "cell_type": "code",
   "execution_count": 239,
   "id": "4a42a4a5",
   "metadata": {},
   "outputs": [],
   "source": [
    "lr_pred = lr.predict(X_test_scaled)"
   ]
  },
  {
   "cell_type": "code",
   "execution_count": 240,
   "id": "613a1eb2",
   "metadata": {},
   "outputs": [
    {
     "data": {
      "text/plain": [
       "array([ 4.14848958e+01,  3.59571287e+01,  1.97276656e+01,  5.24673442e+00,\n",
       "        2.99307067e+01,  2.99271479e+01,  3.08317167e+01,  3.43917074e+01,\n",
       "        2.55633626e+01,  3.19772848e+01,  3.85660321e+01,  4.12134905e+01,\n",
       "        1.31605118e+01, -1.86052135e+00,  3.57560511e+01,  3.42819997e+01,\n",
       "        4.03673031e+01,  3.97619162e+01,  3.35048029e+01,  3.19585797e+01,\n",
       "        4.79019507e+01,  3.53275300e+01,  3.80098619e+01,  2.01036236e+01,\n",
       "        3.97750501e+01,  2.71441290e+01,  4.39273552e+01,  4.23919097e+01,\n",
       "        3.60992405e+01,  3.32201215e+01,  3.42095664e+01,  1.33127271e+01,\n",
       "        2.00887907e+01,  3.31651601e+01,  3.74435234e+01,  2.54856356e+01,\n",
       "        3.88884375e+01,  3.25870783e+01,  3.46312612e+01,  2.68368363e+01,\n",
       "       -1.37886777e+00, -3.48152367e+00,  2.89504717e+01,  3.17145770e+01,\n",
       "        9.15852334e+00,  2.75648673e+01,  3.80737886e+01,  3.65098859e+01,\n",
       "        1.70960075e+01,  3.06675503e+01,  2.99576914e+01,  2.93670633e+01,\n",
       "        7.66911086e+00,  3.64737834e-02,  8.99780650e+00,  2.88386791e+01,\n",
       "        2.57490303e+01,  2.44130117e+01,  3.15468558e+01,  3.64553765e+01,\n",
       "        3.96261165e+01,  4.07066953e+01,  3.76780452e+01,  4.17882976e+01,\n",
       "        2.55460058e+01,  6.92256636e+00,  1.82432365e+01,  1.50797596e+01,\n",
       "        3.50336638e+01,  4.37682186e+01,  2.53322490e+01,  3.97342812e+01,\n",
       "        3.97543782e+01,  3.58562733e+01,  2.90880356e+01,  2.65250221e+01,\n",
       "        2.93187964e+01,  3.59851614e+01, -1.97993078e+00,  2.59762411e+01,\n",
       "        5.36201396e+00,  3.18349299e+01,  3.47749725e+01])"
      ]
     },
     "execution_count": 240,
     "metadata": {},
     "output_type": "execute_result"
    }
   ],
   "source": [
    "lr_pred"
   ]
  },
  {
   "cell_type": "code",
   "execution_count": 241,
   "id": "df2be98f",
   "metadata": {},
   "outputs": [],
   "source": [
    "mae = mean_absolute_error(y_test, lr_pred)\n",
    "r2 = r2_score(y_test, lr_pred)"
   ]
  },
  {
   "cell_type": "code",
   "execution_count": 242,
   "id": "6954cc16",
   "metadata": {},
   "outputs": [],
   "source": [
    "lr = {\"MAE\": mae, \"R²\": r2}"
   ]
  },
  {
   "cell_type": "code",
   "execution_count": 243,
   "id": "af6d8548",
   "metadata": {},
   "outputs": [
    {
     "data": {
      "text/plain": [
       "{'MAE': 8.371857019065425, 'R²': 0.585128293824156}"
      ]
     },
     "execution_count": 243,
     "metadata": {},
     "output_type": "execute_result"
    }
   ],
   "source": [
    "lr"
   ]
  },
  {
   "cell_type": "code",
   "execution_count": 244,
   "id": "ffad25e6-c1ee-4e18-942b-e80b0cbf0637",
   "metadata": {},
   "outputs": [
    {
     "data": {
      "image/png": "[encoded data removed]",
      "text/plain": [
       "<Figure size 640x480 with 1 Axes>"
      ]
     },
     "metadata": {},
     "output_type": "display_data"
    }
   ],
   "source": [
    "plt.scatter(y_test, lr_pred, alpha=0.5 )\n",
    "\n",
    "plt.plot([y.min(), y.max()],[y.min(), y.max()], color = \"pink\")\n",
    "\n",
    "plt.xlabel(\"Actual values\")\n",
    "plt.ylabel(\"Predicted values\")\n",
    "plt.title(\"Predicted vs Actual Values(LinearRegression)\")\n",
    "\n",
    "\n",
    "\n",
    "plt.show()"
   ]
  },
  {
   "cell_type": "code",
   "execution_count": 245,
   "id": "3ef70565-812c-458d-ae11-5f27f84cd3ca",
   "metadata": {},
   "outputs": [
    {
     "data": {
      "image/png": "[encoded data removed]",
      "text/plain": [
       "<Figure size 640x480 with 1 Axes>"
      ]
     },
     "metadata": {},
     "output_type": "display_data"
    }
   ],
   "source": [
    "plt.scatter(lr_pred, y_test - lr_pred, alpha=0.5 )\n",
    "plt.xlabel(\"Predicted values\")\n",
    "plt.ylabel(\"Residuals\")\n",
    "plt.title(\"Residual Plot(LinearRegression)\")\n",
    "plt.show()"
   ]
  },
  {
   "cell_type": "markdown",
   "id": "8f3dd748",
   "metadata": {},
   "source": [
    "# DecisionTreeRegressor"
   ]
  },
  {
   "cell_type": "code",
   "execution_count": 246,
   "id": "bc8a6c90",
   "metadata": {},
   "outputs": [],
   "source": [
    "dtr = DecisionTreeRegressor(random_state=42)"
   ]
  },
  {
   "cell_type": "code",
   "execution_count": 247,
   "id": "53c00a83",
   "metadata": {},
   "outputs": [
    {
     "data": {
      "text/html": [
       "<style>#sk-container-id-27 {color: black;}#sk-container-id-27 pre{padding: 0;}#sk-container-id-27 div.sk-toggleable {background-color: white;}#sk-container-id-27 label.sk-toggleable__label {cursor: pointer;display: block;width: 100%;margin-bottom: 0;padding: 0.3em;box-sizing: border-box;text-align: center;}#sk-container-id-27 label.sk-toggleable__label-arrow:before {content: \"▸\";float: left;margin-right: 0.25em;color: #696969;}#sk-container-id-27 label.sk-toggleable__label-arrow:hover:before {color: black;}#sk-container-id-27 div.sk-estimator:hover label.sk-toggleable__label-arrow:before {color: black;}#sk-container-id-27 div.sk-toggleable__content {max-height: 0;max-width: 0;overflow: hidden;text-align: left;background-color: #f0f8ff;}#sk-container-id-27 div.sk-toggleable__content pre {margin: 0.2em;color: black;border-radius: 0.25em;background-color: #f0f8ff;}#sk-container-id-27 input.sk-toggleable__control:checked~div.sk-toggleable__content {max-height: 200px;max-width: 100%;overflow: auto;}#sk-container-id-27 input.sk-toggleable__control:checked~label.sk-toggleable__label-arrow:before {content: \"▾\";}#sk-container-id-27 div.sk-estimator input.sk-toggleable__control:checked~label.sk-toggleable__label {background-color: #d4ebff;}#sk-container-id-27 div.sk-label input.sk-toggleable__control:checked~label.sk-toggleable__label {background-color: #d4ebff;}#sk-container-id-27 input.sk-hidden--visually {border: 0;clip: rect(1px 1px 1px 1px);clip: rect(1px, 1px, 1px, 1px);height: 1px;margin: -1px;overflow: hidden;padding: 0;position: absolute;width: 1px;}#sk-container-id-27 div.sk-estimator {font-family: monospace;background-color: #f0f8ff;border: 1px dotted black;border-radius: 0.25em;box-sizing: border-box;margin-bottom: 0.5em;}#sk-container-id-27 div.sk-estimator:hover {background-color: #d4ebff;}#sk-container-id-27 div.sk-parallel-item::after {content: \"\";width: 100%;border-bottom: 1px solid gray;flex-grow: 1;}#sk-container-id-27 div.sk-label:hover label.sk-toggleable__label {background-color: #d4ebff;}#sk-container-id-27 div.sk-serial::before {content: \"\";position: absolute;border-left: 1px solid gray;box-sizing: border-box;top: 0;bottom: 0;left: 50%;z-index: 0;}#sk-container-id-27 div.sk-serial {display: flex;flex-direction: column;align-items: center;background-color: white;padding-right: 0.2em;padding-left: 0.2em;position: relative;}#sk-container-id-27 div.sk-item {position: relative;z-index: 1;}#sk-container-id-27 div.sk-parallel {display: flex;align-items: stretch;justify-content: center;background-color: white;position: relative;}#sk-container-id-27 div.sk-item::before, #sk-container-id-27 div.sk-parallel-item::before {content: \"\";position: absolute;border-left: 1px solid gray;box-sizing: border-box;top: 0;bottom: 0;left: 50%;z-index: -1;}#sk-container-id-27 div.sk-parallel-item {display: flex;flex-direction: column;z-index: 1;position: relative;background-color: white;}#sk-container-id-27 div.sk-parallel-item:first-child::after {align-self: flex-end;width: 50%;}#sk-container-id-27 div.sk-parallel-item:last-child::after {align-self: flex-start;width: 50%;}#sk-container-id-27 div.sk-parallel-item:only-child::after {width: 0;}#sk-container-id-27 div.sk-dashed-wrapped {border: 1px dashed gray;margin: 0 0.4em 0.5em 0.4em;box-sizing: border-box;padding-bottom: 0.4em;background-color: white;}#sk-container-id-27 div.sk-label label {font-family: monospace;font-weight: bold;display: inline-block;line-height: 1.2em;}#sk-container-id-27 div.sk-label-container {text-align: center;}#sk-container-id-27 div.sk-container {/* jupyter's `normalize.less` sets `[hidden] { display: none; }` but bootstrap.min.css set `[hidden] { display: none !important; }` so we also need the `!important` here to be able to override the default hidden behavior on the sphinx rendered scikit-learn.org. See: https://github.com/scikit-learn/scikit-learn/issues/21755 */display: inline-block !important;position: relative;}#sk-container-id-27 div.sk-text-repr-fallback {display: none;}</style><div id=\"sk-container-id-27\" class=\"sk-top-container\"><div class=\"sk-text-repr-fallback\"><pre>DecisionTreeRegressor(random_state=42)</pre><b>In a Jupyter environment, please rerun this cell to show the HTML representation or trust the notebook. <br />On GitHub, the HTML representation is unable to render, please try loading this page with nbviewer.org.</b></div><div class=\"sk-container\" hidden><div class=\"sk-item\"><div class=\"sk-estimator sk-toggleable\"><input class=\"sk-toggleable__control sk-hidden--visually\" id=\"sk-estimator-id-27\" type=\"checkbox\" checked><label for=\"sk-estimator-id-27\" class=\"sk-toggleable__label sk-toggleable__label-arrow\">DecisionTreeRegressor</label><div class=\"sk-toggleable__content\"><pre>DecisionTreeRegressor(random_state=42)</pre></div></div></div></div></div>"
      ],
      "text/plain": [
       "DecisionTreeRegressor(random_state=42)"
      ]
     },
     "execution_count": 247,
     "metadata": {},
     "output_type": "execute_result"
    }
   ],
   "source": [
    "dtr"
   ]
  },
  {
   "cell_type": "code",
   "execution_count": 248,
   "id": "9334893a",
   "metadata": {},
   "outputs": [
    {
     "data": {
      "text/html": [
       "<style>#sk-container-id-28 {color: black;}#sk-container-id-28 pre{padding: 0;}#sk-container-id-28 div.sk-toggleable {background-color: white;}#sk-container-id-28 label.sk-toggleable__label {cursor: pointer;display: block;width: 100%;margin-bottom: 0;padding: 0.3em;box-sizing: border-box;text-align: center;}#sk-container-id-28 label.sk-toggleable__label-arrow:before {content: \"▸\";float: left;margin-right: 0.25em;color: #696969;}#sk-container-id-28 label.sk-toggleable__label-arrow:hover:before {color: black;}#sk-container-id-28 div.sk-estimator:hover label.sk-toggleable__label-arrow:before {color: black;}#sk-container-id-28 div.sk-toggleable__content {max-height: 0;max-width: 0;overflow: hidden;text-align: left;background-color: #f0f8ff;}#sk-container-id-28 div.sk-toggleable__content pre {margin: 0.2em;color: black;border-radius: 0.25em;background-color: #f0f8ff;}#sk-container-id-28 input.sk-toggleable__control:checked~div.sk-toggleable__content {max-height: 200px;max-width: 100%;overflow: auto;}#sk-container-id-28 input.sk-toggleable__control:checked~label.sk-toggleable__label-arrow:before {content: \"▾\";}#sk-container-id-28 div.sk-estimator input.sk-toggleable__control:checked~label.sk-toggleable__label {background-color: #d4ebff;}#sk-container-id-28 div.sk-label input.sk-toggleable__control:checked~label.sk-toggleable__label {background-color: #d4ebff;}#sk-container-id-28 input.sk-hidden--visually {border: 0;clip: rect(1px 1px 1px 1px);clip: rect(1px, 1px, 1px, 1px);height: 1px;margin: -1px;overflow: hidden;padding: 0;position: absolute;width: 1px;}#sk-container-id-28 div.sk-estimator {font-family: monospace;background-color: #f0f8ff;border: 1px dotted black;border-radius: 0.25em;box-sizing: border-box;margin-bottom: 0.5em;}#sk-container-id-28 div.sk-estimator:hover {background-color: #d4ebff;}#sk-container-id-28 div.sk-parallel-item::after {content: \"\";width: 100%;border-bottom: 1px solid gray;flex-grow: 1;}#sk-container-id-28 div.sk-label:hover label.sk-toggleable__label {background-color: #d4ebff;}#sk-container-id-28 div.sk-serial::before {content: \"\";position: absolute;border-left: 1px solid gray;box-sizing: border-box;top: 0;bottom: 0;left: 50%;z-index: 0;}#sk-container-id-28 div.sk-serial {display: flex;flex-direction: column;align-items: center;background-color: white;padding-right: 0.2em;padding-left: 0.2em;position: relative;}#sk-container-id-28 div.sk-item {position: relative;z-index: 1;}#sk-container-id-28 div.sk-parallel {display: flex;align-items: stretch;justify-content: center;background-color: white;position: relative;}#sk-container-id-28 div.sk-item::before, #sk-container-id-28 div.sk-parallel-item::before {content: \"\";position: absolute;border-left: 1px solid gray;box-sizing: border-box;top: 0;bottom: 0;left: 50%;z-index: -1;}#sk-container-id-28 div.sk-parallel-item {display: flex;flex-direction: column;z-index: 1;position: relative;background-color: white;}#sk-container-id-28 div.sk-parallel-item:first-child::after {align-self: flex-end;width: 50%;}#sk-container-id-28 div.sk-parallel-item:last-child::after {align-self: flex-start;width: 50%;}#sk-container-id-28 div.sk-parallel-item:only-child::after {width: 0;}#sk-container-id-28 div.sk-dashed-wrapped {border: 1px dashed gray;margin: 0 0.4em 0.5em 0.4em;box-sizing: border-box;padding-bottom: 0.4em;background-color: white;}#sk-container-id-28 div.sk-label label {font-family: monospace;font-weight: bold;display: inline-block;line-height: 1.2em;}#sk-container-id-28 div.sk-label-container {text-align: center;}#sk-container-id-28 div.sk-container {/* jupyter's `normalize.less` sets `[hidden] { display: none; }` but bootstrap.min.css set `[hidden] { display: none !important; }` so we also need the `!important` here to be able to override the default hidden behavior on the sphinx rendered scikit-learn.org. See: https://github.com/scikit-learn/scikit-learn/issues/21755 */display: inline-block !important;position: relative;}#sk-container-id-28 div.sk-text-repr-fallback {display: none;}</style><div id=\"sk-container-id-28\" class=\"sk-top-container\"><div class=\"sk-text-repr-fallback\"><pre>DecisionTreeRegressor(random_state=42)</pre><b>In a Jupyter environment, please rerun this cell to show the HTML representation or trust the notebook. <br />On GitHub, the HTML representation is unable to render, please try loading this page with nbviewer.org.</b></div><div class=\"sk-container\" hidden><div class=\"sk-item\"><div class=\"sk-estimator sk-toggleable\"><input class=\"sk-toggleable__control sk-hidden--visually\" id=\"sk-estimator-id-28\" type=\"checkbox\" checked><label for=\"sk-estimator-id-28\" class=\"sk-toggleable__label sk-toggleable__label-arrow\">DecisionTreeRegressor</label><div class=\"sk-toggleable__content\"><pre>DecisionTreeRegressor(random_state=42)</pre></div></div></div></div></div>"
      ],
      "text/plain": [
       "DecisionTreeRegressor(random_state=42)"
      ]
     },
     "execution_count": 248,
     "metadata": {},
     "output_type": "execute_result"
    }
   ],
   "source": [
    "dtr.fit(X_train_scaled ,y_train)"
   ]
  },
  {
   "cell_type": "code",
   "execution_count": 249,
   "id": "62ecdb5c",
   "metadata": {},
   "outputs": [],
   "source": [
    "dtr_pred = dtr.predict(X_test_scaled)"
   ]
  },
  {
   "cell_type": "code",
   "execution_count": 250,
   "id": "0c473da7",
   "metadata": {},
   "outputs": [
    {
     "data": {
      "text/plain": [
       "array([41.11505105, 29.72640084, 32.41967627,  0.        , 43.57453104,\n",
       "       47.25603168, 45.48583821, 52.76115275, 33.3560109 , 34.79054681,\n",
       "       38.56842027, 35.13161908,  3.39830476,  0.        , 34.79054681,\n",
       "       19.5472047 , 32.95758377, 19.2173606 , 44.35062301, 44.80793563,\n",
       "       58.16330444, 12.30087069, 23.04599311, 11.06078997, 47.35555099,\n",
       "       47.25603168, 35.13161908, 23.10016713, 45.66512995, 33.94583548,\n",
       "       20.16895031,  0.        ,  0.        , 26.75930501, 44.29544499,\n",
       "       14.62680374, 28.72889336, 38.98826969, 34.91191452, 38.67655041,\n",
       "       22.21030128,  1.44333771, 47.16677813, 21.6547096 ,  3.39830476,\n",
       "       25.88302273, 50.61249953, 47.93045608,  6.98726874, 31.86071601,\n",
       "       38.67655041, 18.70607451,  0.        ,  0.        ,  0.        ,\n",
       "       19.28513785, 47.16677813, 44.48092654, 45.34845422, 50.76868745,\n",
       "       48.4698805 , 43.57453104, 28.39451475, 49.5873159 , 33.3560109 ,\n",
       "        7.60804222, 20.07341746, 15.59324741, 21.89934295, 57.80803669,\n",
       "       44.12914007, 28.39451475, 32.95758377, 29.72640084, 44.12914007,\n",
       "       29.72105262, 21.18257465, 52.76115275, 22.21030128, 10.36893366,\n",
       "        0.        , 26.86704988, 40.7916612 ])"
      ]
     },
     "execution_count": 250,
     "metadata": {},
     "output_type": "execute_result"
    }
   ],
   "source": [
    "dtr_pred"
   ]
  },
  {
   "cell_type": "code",
   "execution_count": 251,
   "id": "948ed90c",
   "metadata": {},
   "outputs": [],
   "source": [
    "mae = mean_absolute_error(y_test, dtr_pred)\n",
    "r2 = r2_score(y_test, dtr_pred)"
   ]
  },
  {
   "cell_type": "code",
   "execution_count": 252,
   "id": "223df481",
   "metadata": {},
   "outputs": [],
   "source": [
    "dtr = {\"MAE\": mae, \"R²\": r2}"
   ]
  },
  {
   "cell_type": "code",
   "execution_count": 253,
   "id": "1cd19a01",
   "metadata": {},
   "outputs": [
    {
     "data": {
      "text/plain": [
       "{'MAE': 13.190915622589813, 'R²': -0.10990054995740706}"
      ]
     },
     "execution_count": 253,
     "metadata": {},
     "output_type": "execute_result"
    }
   ],
   "source": [
    "dtr"
   ]
  },
  {
   "cell_type": "code",
   "execution_count": 254,
   "id": "ef15acb2-e9ba-4833-bb0f-4f2f14a421ec",
   "metadata": {},
   "outputs": [
    {
     "data": {
      "image/png": "[encoded data removed]",
      "text/plain": [
       "<Figure size 640x480 with 1 Axes>"
      ]
     },
     "metadata": {},
     "output_type": "display_data"
    }
   ],
   "source": [
    "plt.scatter(y_test, dtr_pred, alpha=0.5 )\n",
    "\n",
    "plt.plot([y.min(), y.max()],[y.min(), y.max()], color = \"pink\")\n",
    "\n",
    "plt.xlabel(\"Actual values\")\n",
    "plt.ylabel(\"Predicted values\")\n",
    "plt.title(\"Predicted vs Actual Values(DecisionTreeRegressor)\")\n",
    "\n",
    "\n",
    "\n",
    "plt.show()"
   ]
  },
  {
   "cell_type": "code",
   "execution_count": 255,
   "id": "c72efdcf-8687-4168-8557-1adf16259346",
   "metadata": {},
   "outputs": [
    {
     "data": {
      "image/png": "[encoded data removed]",
      "text/plain": [
       "<Figure size 640x480 with 1 Axes>"
      ]
     },
     "metadata": {},
     "output_type": "display_data"
    }
   ],
   "source": [
    "plt.scatter(dtr_pred, y_test - dtr_pred, alpha=0.5 )\n",
    "plt.xlabel(\"Predicted values\")\n",
    "plt.ylabel(\"Residuals\")\n",
    "plt.title(\"Residual Plot(DecisionTreeRegressor)\")\n",
    "plt.show()"
   ]
  },
  {
   "cell_type": "markdown",
   "id": "d4fead7f",
   "metadata": {},
   "source": [
    "# RandomForestRegressor"
   ]
  },
  {
   "cell_type": "code",
   "execution_count": 256,
   "id": "1a65e7c2",
   "metadata": {},
   "outputs": [],
   "source": [
    "rfr = RandomForestRegressor(random_state=42)"
   ]
  },
  {
   "cell_type": "code",
   "execution_count": 257,
   "id": "8dead282",
   "metadata": {},
   "outputs": [
    {
     "data": {
      "text/html": [
       "<style>#sk-container-id-29 {color: black;}#sk-container-id-29 pre{padding: 0;}#sk-container-id-29 div.sk-toggleable {background-color: white;}#sk-container-id-29 label.sk-toggleable__label {cursor: pointer;display: block;width: 100%;margin-bottom: 0;padding: 0.3em;box-sizing: border-box;text-align: center;}#sk-container-id-29 label.sk-toggleable__label-arrow:before {content: \"▸\";float: left;margin-right: 0.25em;color: #696969;}#sk-container-id-29 label.sk-toggleable__label-arrow:hover:before {color: black;}#sk-container-id-29 div.sk-estimator:hover label.sk-toggleable__label-arrow:before {color: black;}#sk-container-id-29 div.sk-toggleable__content {max-height: 0;max-width: 0;overflow: hidden;text-align: left;background-color: #f0f8ff;}#sk-container-id-29 div.sk-toggleable__content pre {margin: 0.2em;color: black;border-radius: 0.25em;background-color: #f0f8ff;}#sk-container-id-29 input.sk-toggleable__control:checked~div.sk-toggleable__content {max-height: 200px;max-width: 100%;overflow: auto;}#sk-container-id-29 input.sk-toggleable__control:checked~label.sk-toggleable__label-arrow:before {content: \"▾\";}#sk-container-id-29 div.sk-estimator input.sk-toggleable__control:checked~label.sk-toggleable__label {background-color: #d4ebff;}#sk-container-id-29 div.sk-label input.sk-toggleable__control:checked~label.sk-toggleable__label {background-color: #d4ebff;}#sk-container-id-29 input.sk-hidden--visually {border: 0;clip: rect(1px 1px 1px 1px);clip: rect(1px, 1px, 1px, 1px);height: 1px;margin: -1px;overflow: hidden;padding: 0;position: absolute;width: 1px;}#sk-container-id-29 div.sk-estimator {font-family: monospace;background-color: #f0f8ff;border: 1px dotted black;border-radius: 0.25em;box-sizing: border-box;margin-bottom: 0.5em;}#sk-container-id-29 div.sk-estimator:hover {background-color: #d4ebff;}#sk-container-id-29 div.sk-parallel-item::after {content: \"\";width: 100%;border-bottom: 1px solid gray;flex-grow: 1;}#sk-container-id-29 div.sk-label:hover label.sk-toggleable__label {background-color: #d4ebff;}#sk-container-id-29 div.sk-serial::before {content: \"\";position: absolute;border-left: 1px solid gray;box-sizing: border-box;top: 0;bottom: 0;left: 50%;z-index: 0;}#sk-container-id-29 div.sk-serial {display: flex;flex-direction: column;align-items: center;background-color: white;padding-right: 0.2em;padding-left: 0.2em;position: relative;}#sk-container-id-29 div.sk-item {position: relative;z-index: 1;}#sk-container-id-29 div.sk-parallel {display: flex;align-items: stretch;justify-content: center;background-color: white;position: relative;}#sk-container-id-29 div.sk-item::before, #sk-container-id-29 div.sk-parallel-item::before {content: \"\";position: absolute;border-left: 1px solid gray;box-sizing: border-box;top: 0;bottom: 0;left: 50%;z-index: -1;}#sk-container-id-29 div.sk-parallel-item {display: flex;flex-direction: column;z-index: 1;position: relative;background-color: white;}#sk-container-id-29 div.sk-parallel-item:first-child::after {align-self: flex-end;width: 50%;}#sk-container-id-29 div.sk-parallel-item:last-child::after {align-self: flex-start;width: 50%;}#sk-container-id-29 div.sk-parallel-item:only-child::after {width: 0;}#sk-container-id-29 div.sk-dashed-wrapped {border: 1px dashed gray;margin: 0 0.4em 0.5em 0.4em;box-sizing: border-box;padding-bottom: 0.4em;background-color: white;}#sk-container-id-29 div.sk-label label {font-family: monospace;font-weight: bold;display: inline-block;line-height: 1.2em;}#sk-container-id-29 div.sk-label-container {text-align: center;}#sk-container-id-29 div.sk-container {/* jupyter's `normalize.less` sets `[hidden] { display: none; }` but bootstrap.min.css set `[hidden] { display: none !important; }` so we also need the `!important` here to be able to override the default hidden behavior on the sphinx rendered scikit-learn.org. See: https://github.com/scikit-learn/scikit-learn/issues/21755 */display: inline-block !important;position: relative;}#sk-container-id-29 div.sk-text-repr-fallback {display: none;}</style><div id=\"sk-container-id-29\" class=\"sk-top-container\"><div class=\"sk-text-repr-fallback\"><pre>RandomForestRegressor(random_state=42)</pre><b>In a Jupyter environment, please rerun this cell to show the HTML representation or trust the notebook. <br />On GitHub, the HTML representation is unable to render, please try loading this page with nbviewer.org.</b></div><div class=\"sk-container\" hidden><div class=\"sk-item\"><div class=\"sk-estimator sk-toggleable\"><input class=\"sk-toggleable__control sk-hidden--visually\" id=\"sk-estimator-id-29\" type=\"checkbox\" checked><label for=\"sk-estimator-id-29\" class=\"sk-toggleable__label sk-toggleable__label-arrow\">RandomForestRegressor</label><div class=\"sk-toggleable__content\"><pre>RandomForestRegressor(random_state=42)</pre></div></div></div></div></div>"
      ],
      "text/plain": [
       "RandomForestRegressor(random_state=42)"
      ]
     },
     "execution_count": 257,
     "metadata": {},
     "output_type": "execute_result"
    }
   ],
   "source": [
    "rfr"
   ]
  },
  {
   "cell_type": "code",
   "execution_count": 258,
   "id": "ba204fa2",
   "metadata": {},
   "outputs": [
    {
     "data": {
      "text/html": [
       "<style>#sk-container-id-30 {color: black;}#sk-container-id-30 pre{padding: 0;}#sk-container-id-30 div.sk-toggleable {background-color: white;}#sk-container-id-30 label.sk-toggleable__label {cursor: pointer;display: block;width: 100%;margin-bottom: 0;padding: 0.3em;box-sizing: border-box;text-align: center;}#sk-container-id-30 label.sk-toggleable__label-arrow:before {content: \"▸\";float: left;margin-right: 0.25em;color: #696969;}#sk-container-id-30 label.sk-toggleable__label-arrow:hover:before {color: black;}#sk-container-id-30 div.sk-estimator:hover label.sk-toggleable__label-arrow:before {color: black;}#sk-container-id-30 div.sk-toggleable__content {max-height: 0;max-width: 0;overflow: hidden;text-align: left;background-color: #f0f8ff;}#sk-container-id-30 div.sk-toggleable__content pre {margin: 0.2em;color: black;border-radius: 0.25em;background-color: #f0f8ff;}#sk-container-id-30 input.sk-toggleable__control:checked~div.sk-toggleable__content {max-height: 200px;max-width: 100%;overflow: auto;}#sk-container-id-30 input.sk-toggleable__control:checked~label.sk-toggleable__label-arrow:before {content: \"▾\";}#sk-container-id-30 div.sk-estimator input.sk-toggleable__control:checked~label.sk-toggleable__label {background-color: #d4ebff;}#sk-container-id-30 div.sk-label input.sk-toggleable__control:checked~label.sk-toggleable__label {background-color: #d4ebff;}#sk-container-id-30 input.sk-hidden--visually {border: 0;clip: rect(1px 1px 1px 1px);clip: rect(1px, 1px, 1px, 1px);height: 1px;margin: -1px;overflow: hidden;padding: 0;position: absolute;width: 1px;}#sk-container-id-30 div.sk-estimator {font-family: monospace;background-color: #f0f8ff;border: 1px dotted black;border-radius: 0.25em;box-sizing: border-box;margin-bottom: 0.5em;}#sk-container-id-30 div.sk-estimator:hover {background-color: #d4ebff;}#sk-container-id-30 div.sk-parallel-item::after {content: \"\";width: 100%;border-bottom: 1px solid gray;flex-grow: 1;}#sk-container-id-30 div.sk-label:hover label.sk-toggleable__label {background-color: #d4ebff;}#sk-container-id-30 div.sk-serial::before {content: \"\";position: absolute;border-left: 1px solid gray;box-sizing: border-box;top: 0;bottom: 0;left: 50%;z-index: 0;}#sk-container-id-30 div.sk-serial {display: flex;flex-direction: column;align-items: center;background-color: white;padding-right: 0.2em;padding-left: 0.2em;position: relative;}#sk-container-id-30 div.sk-item {position: relative;z-index: 1;}#sk-container-id-30 div.sk-parallel {display: flex;align-items: stretch;justify-content: center;background-color: white;position: relative;}#sk-container-id-30 div.sk-item::before, #sk-container-id-30 div.sk-parallel-item::before {content: \"\";position: absolute;border-left: 1px solid gray;box-sizing: border-box;top: 0;bottom: 0;left: 50%;z-index: -1;}#sk-container-id-30 div.sk-parallel-item {display: flex;flex-direction: column;z-index: 1;position: relative;background-color: white;}#sk-container-id-30 div.sk-parallel-item:first-child::after {align-self: flex-end;width: 50%;}#sk-container-id-30 div.sk-parallel-item:last-child::after {align-self: flex-start;width: 50%;}#sk-container-id-30 div.sk-parallel-item:only-child::after {width: 0;}#sk-container-id-30 div.sk-dashed-wrapped {border: 1px dashed gray;margin: 0 0.4em 0.5em 0.4em;box-sizing: border-box;padding-bottom: 0.4em;background-color: white;}#sk-container-id-30 div.sk-label label {font-family: monospace;font-weight: bold;display: inline-block;line-height: 1.2em;}#sk-container-id-30 div.sk-label-container {text-align: center;}#sk-container-id-30 div.sk-container {/* jupyter's `normalize.less` sets `[hidden] { display: none; }` but bootstrap.min.css set `[hidden] { display: none !important; }` so we also need the `!important` here to be able to override the default hidden behavior on the sphinx rendered scikit-learn.org. See: https://github.com/scikit-learn/scikit-learn/issues/21755 */display: inline-block !important;position: relative;}#sk-container-id-30 div.sk-text-repr-fallback {display: none;}</style><div id=\"sk-container-id-30\" class=\"sk-top-container\"><div class=\"sk-text-repr-fallback\"><pre>RandomForestRegressor(random_state=42)</pre><b>In a Jupyter environment, please rerun this cell to show the HTML representation or trust the notebook. <br />On GitHub, the HTML representation is unable to render, please try loading this page with nbviewer.org.</b></div><div class=\"sk-container\" hidden><div class=\"sk-item\"><div class=\"sk-estimator sk-toggleable\"><input class=\"sk-toggleable__control sk-hidden--visually\" id=\"sk-estimator-id-30\" type=\"checkbox\" checked><label for=\"sk-estimator-id-30\" class=\"sk-toggleable__label sk-toggleable__label-arrow\">RandomForestRegressor</label><div class=\"sk-toggleable__content\"><pre>RandomForestRegressor(random_state=42)</pre></div></div></div></div></div>"
      ],
      "text/plain": [
       "RandomForestRegressor(random_state=42)"
      ]
     },
     "execution_count": 258,
     "metadata": {},
     "output_type": "execute_result"
    }
   ],
   "source": [
    "rfr.fit(X_train_scaled ,y_train)"
   ]
  },
  {
   "cell_type": "code",
   "execution_count": 259,
   "id": "8658763c",
   "metadata": {},
   "outputs": [],
   "source": [
    "rfr_pred = rfr.predict(X_test_scaled)"
   ]
  },
  {
   "cell_type": "code",
   "execution_count": 260,
   "id": "d2014725",
   "metadata": {},
   "outputs": [
    {
     "data": {
      "text/plain": [
       "array([37.42696922, 30.62433194, 24.44945611,  1.96791352, 26.17576428,\n",
       "       33.28405468, 29.14702458, 33.98903699, 30.64453661, 33.75851399,\n",
       "       42.09603822, 44.93203213,  8.13297365,  2.08794418, 32.73438916,\n",
       "       27.75617854, 41.71119357, 41.61594324, 37.13395646, 27.79605411,\n",
       "       51.05803636, 31.71111066, 33.39622929, 16.26060463, 37.58263084,\n",
       "       34.25160511, 39.81183388, 39.44408638, 33.97950675, 29.48483654,\n",
       "       31.25501808,  9.61770862, 13.06069843, 31.21158848, 36.69955726,\n",
       "       26.98391341, 33.72283793, 36.77175206, 35.8332684 , 27.64622192,\n",
       "        9.72606611,  3.12169538, 35.16946263, 30.45387649,  6.22028301,\n",
       "       29.14629519, 39.700497  , 35.57008306,  3.90307755, 25.89804559,\n",
       "       35.16636558, 24.84529251,  7.0165612 ,  3.81267914,  6.67701189,\n",
       "       30.88034926, 35.14985391, 28.43746779, 33.29475071, 36.49472605,\n",
       "       37.25736028, 38.41538426, 36.01078654, 41.86161978, 32.58616457,\n",
       "        3.46935822, 24.77869745, 22.08119872, 32.71938487, 41.30929102,\n",
       "       29.34975842, 39.26324878, 38.81355291, 33.29577937, 36.41767406,\n",
       "       29.7504063 , 28.64271516, 36.43337663,  8.69810027, 25.51077686,\n",
       "        1.91477672, 29.297779  , 38.65363563])"
      ]
     },
     "execution_count": 260,
     "metadata": {},
     "output_type": "execute_result"
    }
   ],
   "source": [
    "rfr_pred"
   ]
  },
  {
   "cell_type": "code",
   "execution_count": 261,
   "id": "05463bca",
   "metadata": {},
   "outputs": [],
   "source": [
    "mae = mean_absolute_error(y_test, rfr_pred)\n",
    "r2 = r2_score(y_test, rfr_pred)"
   ]
  },
  {
   "cell_type": "code",
   "execution_count": 262,
   "id": "ce12bd99",
   "metadata": {},
   "outputs": [],
   "source": [
    "rfr = {\"MAE\": mae, \"R²\": r2}"
   ]
  },
  {
   "cell_type": "code",
   "execution_count": 263,
   "id": "e08694a7",
   "metadata": {},
   "outputs": [
    {
     "data": {
      "text/plain": [
       "{'MAE': 9.378678892935023, 'R²': 0.4753960675027662}"
      ]
     },
     "execution_count": 263,
     "metadata": {},
     "output_type": "execute_result"
    }
   ],
   "source": [
    "rfr"
   ]
  },
  {
   "cell_type": "code",
   "execution_count": 264,
   "id": "16bc3303-ec4f-4d93-a4a4-7c7f8a8ac4bd",
   "metadata": {},
   "outputs": [
    {
     "data": {
      "image/png": "[encoded data removed]",
      "text/plain": [
       "<Figure size 640x480 with 1 Axes>"
      ]
     },
     "metadata": {},
     "output_type": "display_data"
    }
   ],
   "source": [
    "plt.scatter(y_test, rfr_pred, alpha=0.5 )\n",
    "\n",
    "plt.plot([y.min(), y.max()],[y.min(), y.max()], color = \"pink\")\n",
    "\n",
    "plt.xlabel(\"Actual values\")\n",
    "plt.ylabel(\"Predicted values\")\n",
    "plt.title(\"Predicted vs Actual Values(RandomForestRegressor)\")\n",
    "\n",
    "\n",
    "\n",
    "plt.show()"
   ]
  },
  {
   "cell_type": "code",
   "execution_count": 265,
   "id": "5bceda75-cca6-4462-932d-78524dee1016",
   "metadata": {},
   "outputs": [
    {
     "data": {
      "image/png": "[encoded data removed]",
      "text/plain": [
       "<Figure size 640x480 with 1 Axes>"
      ]
     },
     "metadata": {},
     "output_type": "display_data"
    }
   ],
   "source": [
    "plt.scatter(rfr_pred, y_test - rfr_pred, alpha=0.5 )\n",
    "plt.xlabel(\"Predicted values\")\n",
    "plt.ylabel(\"Residuals\")\n",
    "plt.title(\"Residual Plot(RandomForestRegressor)\")\n",
    "plt.show()"
   ]
  },
  {
   "cell_type": "markdown",
   "id": "8a78680b",
   "metadata": {},
   "source": [
    "# GradientBoostingRegressor"
   ]
  },
  {
   "cell_type": "code",
   "execution_count": 266,
   "id": "61a56f38",
   "metadata": {},
   "outputs": [],
   "source": [
    "gbr = GradientBoostingRegressor(random_state=42)"
   ]
  },
  {
   "cell_type": "code",
   "execution_count": 267,
   "id": "d40b99b0",
   "metadata": {},
   "outputs": [
    {
     "data": {
      "text/html": [
       "<style>#sk-container-id-31 {color: black;}#sk-container-id-31 pre{padding: 0;}#sk-container-id-31 div.sk-toggleable {background-color: white;}#sk-container-id-31 label.sk-toggleable__label {cursor: pointer;display: block;width: 100%;margin-bottom: 0;padding: 0.3em;box-sizing: border-box;text-align: center;}#sk-container-id-31 label.sk-toggleable__label-arrow:before {content: \"▸\";float: left;margin-right: 0.25em;color: #696969;}#sk-container-id-31 label.sk-toggleable__label-arrow:hover:before {color: black;}#sk-container-id-31 div.sk-estimator:hover label.sk-toggleable__label-arrow:before {color: black;}#sk-container-id-31 div.sk-toggleable__content {max-height: 0;max-width: 0;overflow: hidden;text-align: left;background-color: #f0f8ff;}#sk-container-id-31 div.sk-toggleable__content pre {margin: 0.2em;color: black;border-radius: 0.25em;background-color: #f0f8ff;}#sk-container-id-31 input.sk-toggleable__control:checked~div.sk-toggleable__content {max-height: 200px;max-width: 100%;overflow: auto;}#sk-container-id-31 input.sk-toggleable__control:checked~label.sk-toggleable__label-arrow:before {content: \"▾\";}#sk-container-id-31 div.sk-estimator input.sk-toggleable__control:checked~label.sk-toggleable__label {background-color: #d4ebff;}#sk-container-id-31 div.sk-label input.sk-toggleable__control:checked~label.sk-toggleable__label {background-color: #d4ebff;}#sk-container-id-31 input.sk-hidden--visually {border: 0;clip: rect(1px 1px 1px 1px);clip: rect(1px, 1px, 1px, 1px);height: 1px;margin: -1px;overflow: hidden;padding: 0;position: absolute;width: 1px;}#sk-container-id-31 div.sk-estimator {font-family: monospace;background-color: #f0f8ff;border: 1px dotted black;border-radius: 0.25em;box-sizing: border-box;margin-bottom: 0.5em;}#sk-container-id-31 div.sk-estimator:hover {background-color: #d4ebff;}#sk-container-id-31 div.sk-parallel-item::after {content: \"\";width: 100%;border-bottom: 1px solid gray;flex-grow: 1;}#sk-container-id-31 div.sk-label:hover label.sk-toggleable__label {background-color: #d4ebff;}#sk-container-id-31 div.sk-serial::before {content: \"\";position: absolute;border-left: 1px solid gray;box-sizing: border-box;top: 0;bottom: 0;left: 50%;z-index: 0;}#sk-container-id-31 div.sk-serial {display: flex;flex-direction: column;align-items: center;background-color: white;padding-right: 0.2em;padding-left: 0.2em;position: relative;}#sk-container-id-31 div.sk-item {position: relative;z-index: 1;}#sk-container-id-31 div.sk-parallel {display: flex;align-items: stretch;justify-content: center;background-color: white;position: relative;}#sk-container-id-31 div.sk-item::before, #sk-container-id-31 div.sk-parallel-item::before {content: \"\";position: absolute;border-left: 1px solid gray;box-sizing: border-box;top: 0;bottom: 0;left: 50%;z-index: -1;}#sk-container-id-31 div.sk-parallel-item {display: flex;flex-direction: column;z-index: 1;position: relative;background-color: white;}#sk-container-id-31 div.sk-parallel-item:first-child::after {align-self: flex-end;width: 50%;}#sk-container-id-31 div.sk-parallel-item:last-child::after {align-self: flex-start;width: 50%;}#sk-container-id-31 div.sk-parallel-item:only-child::after {width: 0;}#sk-container-id-31 div.sk-dashed-wrapped {border: 1px dashed gray;margin: 0 0.4em 0.5em 0.4em;box-sizing: border-box;padding-bottom: 0.4em;background-color: white;}#sk-container-id-31 div.sk-label label {font-family: monospace;font-weight: bold;display: inline-block;line-height: 1.2em;}#sk-container-id-31 div.sk-label-container {text-align: center;}#sk-container-id-31 div.sk-container {/* jupyter's `normalize.less` sets `[hidden] { display: none; }` but bootstrap.min.css set `[hidden] { display: none !important; }` so we also need the `!important` here to be able to override the default hidden behavior on the sphinx rendered scikit-learn.org. See: https://github.com/scikit-learn/scikit-learn/issues/21755 */display: inline-block !important;position: relative;}#sk-container-id-31 div.sk-text-repr-fallback {display: none;}</style><div id=\"sk-container-id-31\" class=\"sk-top-container\"><div class=\"sk-text-repr-fallback\"><pre>GradientBoostingRegressor(random_state=42)</pre><b>In a Jupyter environment, please rerun this cell to show the HTML representation or trust the notebook. <br />On GitHub, the HTML representation is unable to render, please try loading this page with nbviewer.org.</b></div><div class=\"sk-container\" hidden><div class=\"sk-item\"><div class=\"sk-estimator sk-toggleable\"><input class=\"sk-toggleable__control sk-hidden--visually\" id=\"sk-estimator-id-31\" type=\"checkbox\" checked><label for=\"sk-estimator-id-31\" class=\"sk-toggleable__label sk-toggleable__label-arrow\">GradientBoostingRegressor</label><div class=\"sk-toggleable__content\"><pre>GradientBoostingRegressor(random_state=42)</pre></div></div></div></div></div>"
      ],
      "text/plain": [
       "GradientBoostingRegressor(random_state=42)"
      ]
     },
     "execution_count": 267,
     "metadata": {},
     "output_type": "execute_result"
    }
   ],
   "source": [
    "gbr"
   ]
  },
  {
   "cell_type": "code",
   "execution_count": 268,
   "id": "32676618",
   "metadata": {},
   "outputs": [
    {
     "data": {
      "text/html": [
       "<style>#sk-container-id-32 {color: black;}#sk-container-id-32 pre{padding: 0;}#sk-container-id-32 div.sk-toggleable {background-color: white;}#sk-container-id-32 label.sk-toggleable__label {cursor: pointer;display: block;width: 100%;margin-bottom: 0;padding: 0.3em;box-sizing: border-box;text-align: center;}#sk-container-id-32 label.sk-toggleable__label-arrow:before {content: \"▸\";float: left;margin-right: 0.25em;color: #696969;}#sk-container-id-32 label.sk-toggleable__label-arrow:hover:before {color: black;}#sk-container-id-32 div.sk-estimator:hover label.sk-toggleable__label-arrow:before {color: black;}#sk-container-id-32 div.sk-toggleable__content {max-height: 0;max-width: 0;overflow: hidden;text-align: left;background-color: #f0f8ff;}#sk-container-id-32 div.sk-toggleable__content pre {margin: 0.2em;color: black;border-radius: 0.25em;background-color: #f0f8ff;}#sk-container-id-32 input.sk-toggleable__control:checked~div.sk-toggleable__content {max-height: 200px;max-width: 100%;overflow: auto;}#sk-container-id-32 input.sk-toggleable__control:checked~label.sk-toggleable__label-arrow:before {content: \"▾\";}#sk-container-id-32 div.sk-estimator input.sk-toggleable__control:checked~label.sk-toggleable__label {background-color: #d4ebff;}#sk-container-id-32 div.sk-label input.sk-toggleable__control:checked~label.sk-toggleable__label {background-color: #d4ebff;}#sk-container-id-32 input.sk-hidden--visually {border: 0;clip: rect(1px 1px 1px 1px);clip: rect(1px, 1px, 1px, 1px);height: 1px;margin: -1px;overflow: hidden;padding: 0;position: absolute;width: 1px;}#sk-container-id-32 div.sk-estimator {font-family: monospace;background-color: #f0f8ff;border: 1px dotted black;border-radius: 0.25em;box-sizing: border-box;margin-bottom: 0.5em;}#sk-container-id-32 div.sk-estimator:hover {background-color: #d4ebff;}#sk-container-id-32 div.sk-parallel-item::after {content: \"\";width: 100%;border-bottom: 1px solid gray;flex-grow: 1;}#sk-container-id-32 div.sk-label:hover label.sk-toggleable__label {background-color: #d4ebff;}#sk-container-id-32 div.sk-serial::before {content: \"\";position: absolute;border-left: 1px solid gray;box-sizing: border-box;top: 0;bottom: 0;left: 50%;z-index: 0;}#sk-container-id-32 div.sk-serial {display: flex;flex-direction: column;align-items: center;background-color: white;padding-right: 0.2em;padding-left: 0.2em;position: relative;}#sk-container-id-32 div.sk-item {position: relative;z-index: 1;}#sk-container-id-32 div.sk-parallel {display: flex;align-items: stretch;justify-content: center;background-color: white;position: relative;}#sk-container-id-32 div.sk-item::before, #sk-container-id-32 div.sk-parallel-item::before {content: \"\";position: absolute;border-left: 1px solid gray;box-sizing: border-box;top: 0;bottom: 0;left: 50%;z-index: -1;}#sk-container-id-32 div.sk-parallel-item {display: flex;flex-direction: column;z-index: 1;position: relative;background-color: white;}#sk-container-id-32 div.sk-parallel-item:first-child::after {align-self: flex-end;width: 50%;}#sk-container-id-32 div.sk-parallel-item:last-child::after {align-self: flex-start;width: 50%;}#sk-container-id-32 div.sk-parallel-item:only-child::after {width: 0;}#sk-container-id-32 div.sk-dashed-wrapped {border: 1px dashed gray;margin: 0 0.4em 0.5em 0.4em;box-sizing: border-box;padding-bottom: 0.4em;background-color: white;}#sk-container-id-32 div.sk-label label {font-family: monospace;font-weight: bold;display: inline-block;line-height: 1.2em;}#sk-container-id-32 div.sk-label-container {text-align: center;}#sk-container-id-32 div.sk-container {/* jupyter's `normalize.less` sets `[hidden] { display: none; }` but bootstrap.min.css set `[hidden] { display: none !important; }` so we also need the `!important` here to be able to override the default hidden behavior on the sphinx rendered scikit-learn.org. See: https://github.com/scikit-learn/scikit-learn/issues/21755 */display: inline-block !important;position: relative;}#sk-container-id-32 div.sk-text-repr-fallback {display: none;}</style><div id=\"sk-container-id-32\" class=\"sk-top-container\"><div class=\"sk-text-repr-fallback\"><pre>GradientBoostingRegressor(random_state=42)</pre><b>In a Jupyter environment, please rerun this cell to show the HTML representation or trust the notebook. <br />On GitHub, the HTML representation is unable to render, please try loading this page with nbviewer.org.</b></div><div class=\"sk-container\" hidden><div class=\"sk-item\"><div class=\"sk-estimator sk-toggleable\"><input class=\"sk-toggleable__control sk-hidden--visually\" id=\"sk-estimator-id-32\" type=\"checkbox\" checked><label for=\"sk-estimator-id-32\" class=\"sk-toggleable__label sk-toggleable__label-arrow\">GradientBoostingRegressor</label><div class=\"sk-toggleable__content\"><pre>GradientBoostingRegressor(random_state=42)</pre></div></div></div></div></div>"
      ],
      "text/plain": [
       "GradientBoostingRegressor(random_state=42)"
      ]
     },
     "execution_count": 268,
     "metadata": {},
     "output_type": "execute_result"
    }
   ],
   "source": [
    "gbr.fit(X_train_scaled ,y_train)"
   ]
  },
  {
   "cell_type": "code",
   "execution_count": 269,
   "id": "afe641b7",
   "metadata": {},
   "outputs": [],
   "source": [
    "gbr_pred = gbr.predict(X_test_scaled)"
   ]
  },
  {
   "cell_type": "code",
   "execution_count": 270,
   "id": "bee97a22",
   "metadata": {},
   "outputs": [
    {
     "data": {
      "text/plain": [
       "array([40.44717319, 36.49822649, 21.57237439, -1.3134681 , 21.34161456,\n",
       "       29.81835591, 29.52999306, 31.9536469 , 25.80796562, 39.11783117,\n",
       "       41.71472367, 51.23819719,  9.16500404,  3.92880024, 35.58909765,\n",
       "       30.77910866, 43.32332013, 41.37443254, 41.68572166, 23.07764166,\n",
       "       50.73743196, 31.19238127, 35.87052511, 15.82563614, 38.28082088,\n",
       "       35.14070577, 37.80271119, 41.1346738 , 36.38934336, 28.27896072,\n",
       "       31.13042079, 11.22254673, 18.3056881 , 35.15173038, 35.06801674,\n",
       "       24.6564669 , 37.14392761, 33.27880035, 33.68807516, 32.74487806,\n",
       "       14.35917919, -3.38571812, 37.7473171 , 33.03386176,  5.21765905,\n",
       "       29.28605929, 39.49921888, 31.09407486,  7.95442427, 26.53037099,\n",
       "       33.15952228, 28.17385341,  5.60255265,  5.52415826,  0.32624429,\n",
       "       29.61186988, 32.28918935, 23.62155509, 30.09296791, 35.94966646,\n",
       "       36.82102522, 39.63421946, 36.99776908, 37.04388493, 30.56311418,\n",
       "        1.33217587, 23.56106235, 18.69298867, 34.49222659, 46.71914045,\n",
       "       23.80545714, 39.5603065 , 42.38221483, 37.01745481, 35.26846391,\n",
       "       28.82183404, 32.86049838, 35.25641371,  9.63643766, 26.56728626,\n",
       "        7.15669173, 32.17988951, 36.0950843 ])"
      ]
     },
     "execution_count": 270,
     "metadata": {},
     "output_type": "execute_result"
    }
   ],
   "source": [
    "gbr_pred"
   ]
  },
  {
   "cell_type": "code",
   "execution_count": 271,
   "id": "2561afc7",
   "metadata": {},
   "outputs": [],
   "source": [
    "mae = mean_absolute_error(y_test, gbr_pred)\n",
    "r2 = r2_score(y_test, gbr_pred)"
   ]
  },
  {
   "cell_type": "code",
   "execution_count": 272,
   "id": "0ddba09e",
   "metadata": {},
   "outputs": [],
   "source": [
    "gbr = {\"MAE\": mae, \"R²\": r2}"
   ]
  },
  {
   "cell_type": "code",
   "execution_count": 273,
   "id": "3d2124bf",
   "metadata": {},
   "outputs": [
    {
     "data": {
      "text/plain": [
       "{'MAE': 9.371074534310731, 'R²': 0.4929214175635832}"
      ]
     },
     "execution_count": 273,
     "metadata": {},
     "output_type": "execute_result"
    }
   ],
   "source": [
    "gbr"
   ]
  },
  {
   "cell_type": "code",
   "execution_count": 274,
   "id": "e05e7034",
   "metadata": {},
   "outputs": [
    {
     "data": {
      "image/png": "[encoded data removed]",
      "text/plain": [
       "<Figure size 640x480 with 1 Axes>"
      ]
     },
     "metadata": {},
     "output_type": "display_data"
    }
   ],
   "source": [
    "plt.scatter(y_test, gbr_pred, alpha=0.5 )\n",
    "\n",
    "plt.plot([y.min(), y.max()],[y.min(), y.max()], color = \"pink\")\n",
    "\n",
    "plt.xlabel(\"Actual values\")\n",
    "plt.ylabel(\"Predicted values\")\n",
    "plt.title(\"Predicted vs Actual Values(GradientBoostingRegressor)\")\n",
    "\n",
    "\n",
    "\n",
    "plt.show()"
   ]
  },
  {
   "cell_type": "code",
   "execution_count": 275,
   "id": "4c0beff4",
   "metadata": {},
   "outputs": [
    {
     "data": {
      "image/png": "[encoded data removed]",
      "text/plain": [
       "<Figure size 640x480 with 1 Axes>"
      ]
     },
     "metadata": {},
     "output_type": "display_data"
    }
   ],
   "source": [
    "plt.scatter(gbr_pred, y_test - gbr_pred, alpha=0.5 )\n",
    "plt.xlabel(\"Predicted values\")\n",
    "plt.ylabel(\"Residuals\")\n",
    "plt.title(\"Residual Plot(GradientBoostingRegressor)\")\n",
    "plt.show()\n"
   ]
  },
  {
   "cell_type": "code",
   "execution_count": 276,
   "id": "1f1bf6ef",
   "metadata": {},
   "outputs": [
    {
     "name": "stdout",
     "output_type": "stream",
     "text": [
      "Linear Regression {'MAE': 8.371857019065425, 'R²': 0.585128293824156}\n",
      "DecisionTreeRegressor {'MAE': 13.190915622589813, 'R²': -0.10990054995740706}\n",
      "RandomForestRegressor {'MAE': 9.378678892935023, 'R²': 0.4753960675027662}\n",
      "GradientBoostingRegressor {'MAE': 9.371074534310731, 'R²': 0.4929214175635832}\n"
     ]
    }
   ],
   "source": [
    "print('Linear Regression', lr),\n",
    "print('DecisionTreeRegressor', dtr),\n",
    "print('RandomForestRegressor', rfr),\n",
    "print('GradientBoostingRegressor', gbr)"
   ]
  },
  {
   "cell_type": "markdown",
   "id": "aba05d89",
   "metadata": {},
   "source": [
    "With the lowest MAE (8.37) and greatest R² (0.58) of the models examined, Linear Regression is the model that performs the best. It implies that, for this dataset, Linear Regression is quite effective despite its simplicity.\n",
    "\n",
    "With the greatest MAE (13.19) and lowest R² (-0.10), the Decision Tree Regressor may be overfitting to the training set and underperforming on the test set. The Random Forest Regressor and Gradient Boosting Regressor, on the other hand, perform somewhat worse than the Linear Regression model but better than the Decision Tree, with comparable MAEs (9.89 and 10.00, respectively) and R2 values (0.51 and 0.48, respectively)."
   ]
  },
  {
   "cell_type": "code",
   "execution_count": null,
   "id": "25199686",
   "metadata": {},
   "outputs": [],
   "source": []
  },
  {
   "cell_type": "code",
   "execution_count": null,
   "id": "8bac7f06",
   "metadata": {},
   "outputs": [],
   "source": []
  },
  {
   "cell_type": "code",
   "execution_count": null,
   "id": "8c354647",
   "metadata": {},
   "outputs": [],
   "source": []
  },
  {
   "cell_type": "code",
   "execution_count": null,
   "id": "47a0e272",
   "metadata": {},
   "outputs": [],
   "source": []
  },
  {
   "cell_type": "code",
   "execution_count": null,
   "id": "14d6c175",
   "metadata": {},
   "outputs": [],
   "source": []
  },
  {
   "cell_type": "code",
   "execution_count": null,
   "id": "0ea4aa85",
   "metadata": {},
   "outputs": [],
   "source": []
  },
  {
   "cell_type": "code",
   "execution_count": null,
   "id": "200af003",
   "metadata": {},
   "outputs": [],
   "source": []
  },
  {
   "cell_type": "code",
   "execution_count": null,
   "id": "174f957c",
   "metadata": {},
   "outputs": [],
   "source": []
  },
  {
   "cell_type": "code",
   "execution_count": null,
   "id": "ef36f7a8",
   "metadata": {},
   "outputs": [],
   "source": []
  },
  {
   "cell_type": "code",
   "execution_count": null,
   "id": "27c76b4f",
   "metadata": {},
   "outputs": [],
   "source": []
  },
  {
   "cell_type": "code",
   "execution_count": null,
   "id": "86339a4e",
   "metadata": {},
   "outputs": [],
   "source": []
  },
  {
   "cell_type": "code",
   "execution_count": null,
   "id": "10e4b63b",
   "metadata": {},
   "outputs": [],
   "source": []
  },
  {
   "cell_type": "code",
   "execution_count": null,
   "id": "62931156",
   "metadata": {},
   "outputs": [],
   "source": []
  },
  {
   "cell_type": "code",
   "execution_count": null,
   "id": "42748725",
   "metadata": {},
   "outputs": [],
   "source": []
  },
  {
   "cell_type": "code",
   "execution_count": null,
   "id": "afd7c75c",
   "metadata": {},
   "outputs": [],
   "source": []
  },
  {
   "cell_type": "code",
   "execution_count": null,
   "id": "79dbaa86",
   "metadata": {},
   "outputs": [],
   "source": []
  },
  {
   "cell_type": "code",
   "execution_count": null,
   "id": "07280fee",
   "metadata": {},
   "outputs": [],
   "source": []
  },
  {
   "cell_type": "code",
   "execution_count": null,
   "id": "93018e63",
   "metadata": {},
   "outputs": [],
   "source": []
  },
  {
   "cell_type": "code",
   "execution_count": null,
   "id": "a528921a-bf90-4aaf-b4c9-89624adc251b",
   "metadata": {},
   "outputs": [],
   "source": []
  },
  {
   "cell_type": "code",
   "execution_count": null,
   "id": "dff8bc21-db36-45ff-8716-3c563f4fd3ea",
   "metadata": {},
   "outputs": [],
   "source": []
  },
  {
   "cell_type": "code",
   "execution_count": null,
   "id": "397a8fe9-ccaa-443b-ad24-8ee2ac2f151c",
   "metadata": {},
   "outputs": [],
   "source": []
  },
  {
   "cell_type": "code",
   "execution_count": null,
   "id": "4def6a4d-c594-4d0a-b00f-b143fe7ef74c",
   "metadata": {},
   "outputs": [],
   "source": []
  },
  {
   "cell_type": "code",
   "execution_count": null,
   "id": "9cdff080-b15c-453a-b2cc-548275ea42a2",
   "metadata": {},
   "outputs": [],
   "source": []
  },
  {
   "cell_type": "code",
   "execution_count": null,
   "id": "5df19fb7-ba49-48b3-9279-acf005959d9a",
   "metadata": {},
   "outputs": [],
   "source": []
  },
  {
   "cell_type": "code",
   "execution_count": null,
   "id": "82a0bae4-c3fa-4d78-a084-97457a6d9d4b",
   "metadata": {},
   "outputs": [],
   "source": []
  }
 ],
 "metadata": {
  "kernelspec": {
   "display_name": "Python 3 (ipykernel)",
   "language": "python",
   "name": "python3"
  },
  "language_info": {
   "codemirror_mode": {
    "name": "ipython",
    "version": 3
   },
   "file_extension": ".py",
   "mimetype": "text/x-python",
   "name": "python",
   "nbconvert_exporter": "python",
   "pygments_lexer": "ipython3",
   "version": "3.11.4"
  },
  "widgets": {
   "application/vnd.jupyter.widget-state+json": {
    "state": {},
    "version_major": 2,
    "version_minor": 0
   }
  }
 },
 "nbformat": 4,
 "nbformat_minor": 5
}
